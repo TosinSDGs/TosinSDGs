{
  "cells": [
    {
      "cell_type": "markdown",
      "metadata": {
        "id": "view-in-github",
        "colab_type": "text"
      },
      "source": [
        "<a href=\"https://colab.research.google.com/github/TosinSDGs/TosinSDGs/blob/main/NPL_Modeling.ipynb\" target=\"_parent\"><img src=\"https://colab.research.google.com/assets/colab-badge.svg\" alt=\"Open In Colab\"/></a>"
      ]
    },
    {
      "cell_type": "markdown",
      "id": "fa1de25d",
      "metadata": {
        "id": "fa1de25d"
      },
      "source": [
        "# Predicting non-performing loans (npl) using historical debt data from 1996 to 2022"
      ]
    },
    {
      "cell_type": "code",
      "execution_count": null,
      "id": "b566bfd3",
      "metadata": {
        "id": "b566bfd3"
      },
      "outputs": [],
      "source": [
        "import pandas as pd\n",
        "import numpy as np"
      ]
    },
    {
      "cell_type": "code",
      "execution_count": null,
      "id": "fa91e7f3",
      "metadata": {
        "id": "fa91e7f3"
      },
      "outputs": [],
      "source": [
        "npl_data = pd.read_excel('real_sector v3.xlsx', header=0)"
      ]
    },
    {
      "cell_type": "code",
      "execution_count": null,
      "id": "f6c4b01b",
      "metadata": {
        "id": "f6c4b01b",
        "outputId": "1a310efd-2a40-4060-d43c-71858d8dc46c"
      },
      "outputs": [
        {
          "name": "stdout",
          "output_type": "stream",
          "text": [
            "['Template', 'Partner ID', 'Partner Name', 'Partner Country', 'Partner Region', 'Partner Industry', 'Partner DeptDiv', 'Partner Portfolio Manager', 'Partner IGSC Lvl1', 'Partner IGSC Lvl2', 'Partner IGSC Lvl3', 'Partner Sector', 'Active Portfolio Indicator', 'Statement Months', 'Statement Date', 'Statement Type', 'Consolidation', 'Auditor', 'Total Cash and Cash Equivalents', 'Total Current Assets', 'Total Assets', 'Total Current Liabilities', 'Total Liabilities', 'Retained Earnings', 'Total Equity', 'Net Revenues', 'Operating Profit', 'Interest Expense', 'Interest Income', 'Income Tax Expense', 'Net Income', 'Financial Debt (TS)', 'Net Debt', 'EBITDA (TS)', 'Current Ratio', 'Current Ratio excl prepaids [TS]', 'Quick Ratio', 'Liabilities to Net Worth', 'Liabilities to Assets', 'Debt to Net Worth', 'Net Worth to Total Assets', 'Interest Coverage', 'DSCR (TS)', 'Net Debt to EBITDA', 'EBITDA Margin', 'Operating Profit Margin', 'Net Profit Margin', 'ROAA', 'Net Trade Receivable Days', 'Inventory Days', 'Accounts Payable Days', 'Asset Turnover', 'Month End Date', 'DEBT_CMTD', 'LOSS_RSV', 'LOAN_OUTSTANDING', 'TOT_ARR', 'NPL_PRIN', 'FIRST_NPL_DATE', 'Earliest Statement Date', 'Last Statement Date', 'CR NUM', 'CRR NUM', 'WC to Assets Ratio', 'RE to Assets Ratio', 'EBITDA to Assets Ratio (annualized)', 'EBIT to Assets Ratio (annualized)', 'Operating Profit to Assets Ratio (annualized)', 'Equity to Liabilities Ratio', 'Z-Score (EBITDA)', 'Z-Score (EBIT)', 'Z-Score (Operating Profit)', 'Rev_Total_Assest', 'NPL_DEBT_CMTD']\n"
          ]
        }
      ],
      "source": [
        "print(npl_data.columns.tolist())"
      ]
    },
    {
      "cell_type": "code",
      "execution_count": null,
      "id": "22b9f824",
      "metadata": {
        "id": "22b9f824"
      },
      "outputs": [],
      "source": [
        "npl_data = npl_data.drop(columns=[\"Partner Country\", \"Partner DeptDiv\", \"Partner Portfolio Manager\", \"Partner IGSC Lvl1\", \"Partner IGSC Lvl2\", \"Partner IGSC Lvl3\", \"Partner Sector\", \"Auditor\", \"Consolidation\", \"Statement Type\",  \"Inventory Days\", \"Accounts Payable Days\", \"Month End Date\", \"Last Statement Date\", 'Z-Score (EBITDA)', 'Z-Score (Operating Profit)', \"Template\", \"Partner Name\"])"
      ]
    },
    {
      "cell_type": "code",
      "execution_count": null,
      "id": "18a113f2",
      "metadata": {
        "id": "18a113f2"
      },
      "outputs": [],
      "source": [
        "npl_data = npl_data[~npl_data['Partner Industry'].isin(['UNK', 'CDF', 'FIG', ' '])]"
      ]
    },
    {
      "cell_type": "code",
      "execution_count": null,
      "id": "68f0c567",
      "metadata": {
        "id": "68f0c567"
      },
      "outputs": [],
      "source": [
        "# perform one-hot encoding using get_dummies()\n",
        "npl_data = pd.get_dummies(npl_data, columns=['Partner Region', 'Partner Industry'])"
      ]
    },
    {
      "cell_type": "code",
      "execution_count": null,
      "id": "3bbd5d08",
      "metadata": {
        "id": "3bbd5d08",
        "outputId": "680909b8-864d-4d9e-a33e-f8bbbd55d3e6"
      },
      "outputs": [
        {
          "name": "stdout",
          "output_type": "stream",
          "text": [
            "(59838, 64)\n"
          ]
        }
      ],
      "source": [
        "print(npl_data.shape)"
      ]
    },
    {
      "cell_type": "code",
      "execution_count": null,
      "id": "e6fa0934",
      "metadata": {
        "id": "e6fa0934"
      },
      "outputs": [],
      "source": [
        "#using npl dummy\n",
        "npl_data[\"NPL\"] = npl_data[\"NPL_PRIN\"].apply(lambda x: 1 if pd.notnull(x) and x != 0 else 0)"
      ]
    },
    {
      "cell_type": "code",
      "execution_count": null,
      "id": "ad4253d8",
      "metadata": {
        "id": "ad4253d8",
        "outputId": "f5e27ccb-2a3d-492a-ca7b-3b9a295dbd07"
      },
      "outputs": [
        {
          "name": "stdout",
          "output_type": "stream",
          "text": [
            "['Partner ID', 'Active Portfolio Indicator', 'Statement Months', 'Statement Date', 'Total Cash and Cash Equivalents', 'Total Current Assets', 'Total Assets', 'Total Current Liabilities', 'Total Liabilities', 'Retained Earnings', 'Total Equity', 'Net Revenues', 'Operating Profit', 'Interest Expense', 'Interest Income', 'Income Tax Expense', 'Net Income', 'Financial Debt (TS)', 'Net Debt', 'EBITDA (TS)', 'Current Ratio', 'Current Ratio excl prepaids [TS]', 'Quick Ratio', 'Liabilities to Net Worth', 'Liabilities to Assets', 'Debt to Net Worth', 'Net Worth to Total Assets', 'Interest Coverage', 'DSCR (TS)', 'Net Debt to EBITDA', 'EBITDA Margin', 'Operating Profit Margin', 'Net Profit Margin', 'ROAA', 'Net Trade Receivable Days', 'Asset Turnover', 'DEBT_CMTD', 'LOSS_RSV', 'LOAN_OUTSTANDING', 'TOT_ARR', 'NPL_PRIN', 'FIRST_NPL_DATE', 'Earliest Statement Date', 'CR NUM', 'CRR NUM', 'WC to Assets Ratio', 'RE to Assets Ratio', 'EBITDA to Assets Ratio (annualized)', 'EBIT to Assets Ratio (annualized)', 'Operating Profit to Assets Ratio (annualized)', 'Equity to Liabilities Ratio', 'Z-Score (EBIT)', 'Rev_Total_Assest', 'NPL_DEBT_CMTD', 'Partner Region_CAF', 'Partner Region_CAT', 'Partner Region_CEA', 'Partner Region_CEU', 'Partner Region_CLA', 'Partner Region_CME', 'Partner Region_CSA', 'Partner Region_WLD', 'Partner Industry_INFRA', 'Partner Industry_MAS', 'NPL']\n"
          ]
        }
      ],
      "source": [
        "print(npl_data.columns.tolist())"
      ]
    },
    {
      "cell_type": "code",
      "execution_count": null,
      "id": "0564b5b5",
      "metadata": {
        "id": "0564b5b5"
      },
      "outputs": [],
      "source": [
        "# Convert the date column to a pandas DatetimeIndex object\n",
        "npl_data['Statement Date'] = pd.to_datetime(npl_data['Statement Date'])\n",
        "\n",
        "# Extract the year and quarter information from the date column\n",
        "npl_data['year'] = npl_data['Statement Date'].dt.year\n",
        "npl_data['quarter'] = npl_data['Statement Date'].dt.quarter\n",
        "\n",
        "# Create a PeriodIndex object from the 'year' and 'quarter' columns\n",
        "npl_data['period'] = pd.PeriodIndex(year=npl_data['year'], quarter=npl_data['quarter'])\n",
        "\n",
        "# Add period column to the dataframe\n",
        "npl_data['individual_id'] = npl_data['Partner ID']\n",
        "npl_data['quarter'] = npl_data['quarter']\n",
        "npl_data['year'] = npl_data['year']\n",
        "npl_data = npl_data.loc[:, ['individual_id', 'period', 'quarter', 'year'] + npl_data.columns[:-4].tolist()]\n",
        "\n",
        "# Sort the index by individual, year, quarter and period\n",
        "npl_data = npl_data.sort_values(by=['individual_id', 'year', 'quarter', 'period']).reset_index(drop=True)\n"
      ]
    },
    {
      "cell_type": "code",
      "execution_count": null,
      "id": "e478b7d1",
      "metadata": {
        "id": "e478b7d1",
        "outputId": "91654e8f-aa03-427d-f3ce-852105f85d2d"
      },
      "outputs": [
        {
          "name": "stdout",
          "output_type": "stream",
          "text": [
            "   individual_id  period  quarter  year  Partner ID  \\\n",
            "0             24  1998Q2        2  1998          24   \n",
            "1             24  1999Q2        2  1999          24   \n",
            "2             24  2000Q1        1  2000          24   \n",
            "3             24  2000Q2        2  2000          24   \n",
            "4             24  2001Q1        1  2001          24   \n",
            "\n",
            "  Active Portfolio Indicator  Statement Months Statement Date  \\\n",
            "0                          N                12     1998-06-30   \n",
            "1                          N                12     1999-06-30   \n",
            "2                          N                 3     2000-03-31   \n",
            "3                          N                12     2000-06-30   \n",
            "4                          N                 3     2001-03-30   \n",
            "\n",
            "   Total Cash and Cash Equivalents  Total Current Assets  ...  \\\n",
            "0                       40600000.0           350100000.0  ...   \n",
            "1                       30400000.0           295600000.0  ...   \n",
            "2                        7352000.0           188309000.0  ...   \n",
            "3                        9126000.0           224486000.0  ...   \n",
            "4                        5175000.0           201878000.0  ...   \n",
            "\n",
            "   Partner Region_CAT  Partner Region_CEA  Partner Region_CEU  \\\n",
            "0                   0                   0                   0   \n",
            "1                   0                   0                   0   \n",
            "2                   0                   0                   0   \n",
            "3                   0                   0                   0   \n",
            "4                   0                   0                   0   \n",
            "\n",
            "   Partner Region_CLA  Partner Region_CME  Partner Region_CSA  \\\n",
            "0                   1                   0                   0   \n",
            "1                   1                   0                   0   \n",
            "2                   1                   0                   0   \n",
            "3                   1                   0                   0   \n",
            "4                   1                   0                   0   \n",
            "\n",
            "   Partner Region_WLD  Partner Industry_INFRA  Partner Industry_MAS  NPL  \n",
            "0                   0                       0                     1    0  \n",
            "1                   0                       0                     1    0  \n",
            "2                   0                       0                     1    0  \n",
            "3                   0                       0                     1    0  \n",
            "4                   0                       0                     1    0  \n",
            "\n",
            "[5 rows x 69 columns]\n"
          ]
        }
      ],
      "source": [
        "print(npl_data.head(5))"
      ]
    },
    {
      "cell_type": "code",
      "execution_count": null,
      "id": "4eb2d659",
      "metadata": {
        "id": "4eb2d659",
        "outputId": "5d5d3273-0541-4647-8c9e-5fe73999d54a"
      },
      "outputs": [
        {
          "name": "stdout",
          "output_type": "stream",
          "text": [
            "['individual_id', 'period', 'quarter', 'year', 'Partner ID', 'Active Portfolio Indicator', 'Statement Months', 'Statement Date', 'Total Cash and Cash Equivalents', 'Total Current Assets', 'Total Assets', 'Total Current Liabilities', 'Total Liabilities', 'Retained Earnings', 'Total Equity', 'Net Revenues', 'Operating Profit', 'Interest Expense', 'Interest Income', 'Income Tax Expense', 'Net Income', 'Financial Debt (TS)', 'Net Debt', 'EBITDA (TS)', 'Current Ratio', 'Current Ratio excl prepaids [TS]', 'Quick Ratio', 'Liabilities to Net Worth', 'Liabilities to Assets', 'Debt to Net Worth', 'Net Worth to Total Assets', 'Interest Coverage', 'DSCR (TS)', 'Net Debt to EBITDA', 'EBITDA Margin', 'Operating Profit Margin', 'Net Profit Margin', 'ROAA', 'Net Trade Receivable Days', 'Asset Turnover', 'DEBT_CMTD', 'LOSS_RSV', 'LOAN_OUTSTANDING', 'TOT_ARR', 'NPL_PRIN', 'FIRST_NPL_DATE', 'Earliest Statement Date', 'CR NUM', 'CRR NUM', 'WC to Assets Ratio', 'RE to Assets Ratio', 'EBITDA to Assets Ratio (annualized)', 'EBIT to Assets Ratio (annualized)', 'Operating Profit to Assets Ratio (annualized)', 'Equity to Liabilities Ratio', 'Z-Score (EBIT)', 'Rev_Total_Assest', 'NPL_DEBT_CMTD', 'Partner Region_CAF', 'Partner Region_CAT', 'Partner Region_CEA', 'Partner Region_CEU', 'Partner Region_CLA', 'Partner Region_CME', 'Partner Region_CSA', 'Partner Region_WLD', 'Partner Industry_INFRA', 'Partner Industry_MAS', 'NPL']\n"
          ]
        }
      ],
      "source": [
        "print(npl_data.columns.tolist())"
      ]
    },
    {
      "cell_type": "code",
      "execution_count": null,
      "id": "4357b836",
      "metadata": {
        "id": "4357b836"
      },
      "outputs": [],
      "source": [
        "npl_data = npl_data.drop(columns=['Earliest Statement Date', 'FIRST_NPL_DATE', 'Partner ID', 'period', 'CRR NUM', 'TOT_ARR', 'NPL_PRIN', 'LOSS_RSV', 'Statement Date'])"
      ]
    },
    {
      "cell_type": "code",
      "execution_count": null,
      "id": "4a1e9ed9",
      "metadata": {
        "id": "4a1e9ed9",
        "outputId": "767028a9-68de-4d02-86c1-69e0992b5a85"
      },
      "outputs": [
        {
          "name": "stdout",
          "output_type": "stream",
          "text": [
            "['individual_id', 'quarter', 'year', 'Active Portfolio Indicator', 'Statement Months', 'Total Cash and Cash Equivalents', 'Total Current Assets', 'Total Assets', 'Total Current Liabilities', 'Total Liabilities', 'Retained Earnings', 'Total Equity', 'Net Revenues', 'Operating Profit', 'Interest Expense', 'Interest Income', 'Income Tax Expense', 'Net Income', 'Financial Debt (TS)', 'Net Debt', 'EBITDA (TS)', 'Current Ratio', 'Current Ratio excl prepaids [TS]', 'Quick Ratio', 'Liabilities to Net Worth', 'Liabilities to Assets', 'Debt to Net Worth', 'Net Worth to Total Assets', 'Interest Coverage', 'DSCR (TS)', 'Net Debt to EBITDA', 'EBITDA Margin', 'Operating Profit Margin', 'Net Profit Margin', 'ROAA', 'Net Trade Receivable Days', 'Asset Turnover', 'DEBT_CMTD', 'LOAN_OUTSTANDING', 'CR NUM', 'WC to Assets Ratio', 'RE to Assets Ratio', 'EBITDA to Assets Ratio (annualized)', 'EBIT to Assets Ratio (annualized)', 'Operating Profit to Assets Ratio (annualized)', 'Equity to Liabilities Ratio', 'Z-Score (EBIT)', 'Rev_Total_Assest', 'NPL_DEBT_CMTD', 'Partner Region_CAF', 'Partner Region_CAT', 'Partner Region_CEA', 'Partner Region_CEU', 'Partner Region_CLA', 'Partner Region_CME', 'Partner Region_CSA', 'Partner Region_WLD', 'Partner Industry_INFRA', 'Partner Industry_MAS', 'NPL']\n"
          ]
        }
      ],
      "source": [
        "print(npl_data.columns.tolist())"
      ]
    },
    {
      "cell_type": "code",
      "execution_count": null,
      "id": "bbefcbc6",
      "metadata": {
        "id": "bbefcbc6"
      },
      "outputs": [],
      "source": [
        "npl_data = npl_data.drop(columns=['Net Trade Receivable Days'])"
      ]
    },
    {
      "cell_type": "code",
      "execution_count": null,
      "id": "e7374236",
      "metadata": {
        "id": "e7374236",
        "outputId": "f61a8329-2a1a-41d8-8b5e-21913d45ae74"
      },
      "outputs": [
        {
          "name": "stdout",
          "output_type": "stream",
          "text": [
            "(59838, 59)\n"
          ]
        }
      ],
      "source": [
        "print(npl_data.shape)"
      ]
    },
    {
      "cell_type": "markdown",
      "id": "87b03ba7",
      "metadata": {
        "id": "87b03ba7"
      },
      "source": [
        "Test for Stationarity"
      ]
    },
    {
      "cell_type": "code",
      "execution_count": null,
      "id": "641d169b",
      "metadata": {
        "id": "641d169b"
      },
      "outputs": [],
      "source": [
        "from statsmodels.tsa.stattools import adfuller\n",
        "\n",
        "# define the list of columns to perform ADF test on\n",
        "cols = ['Total Cash and Cash Equivalents', 'Total Assets', 'Total Liabilities', 'Retained Earnings', 'Total Equity',\n",
        "        'Net Revenues', 'Operating Profit', 'Interest Expense', 'Financial Debt (TS)', 'Net Debt', 'Current Ratio',\n",
        "        'Debt to Net Worth', 'DSCR (TS)', 'Operating Profit Margin', 'ROAA', 'Asset Turnover', 'DEBT_CMTD', 'LOSS_RSV',\n",
        "        'LOAN_OUTSTANDING', 'TOT_ARR', 'NPL_PRIN', 'CR NUM', 'CRR NUM', 'WC to Assets Ratio', 'RE to Assets Ratio',\n",
        "        'EBIT to Assets Ratio (annualized)', 'Equity to Liabilities Ratio', 'Z-Score (EBIT)', 'Rev_Total_Assest',\n",
        "        'NPL_DEBT_CMTD', 'NPL Days', 'NPL']\n",
        "\n",
        "# loop through the columns and perform ADF test\n",
        "for col in cols:\n",
        "    result = adfuller(npl_data[col].dropna())\n",
        "    print(f'ADF Statistic for {col}: {result[0]:.3f}')\n",
        "    print(f'p-value for {col}: {result[1]:.3f}')\n",
        "    print(f'Critical values for {col}:')\n",
        "    for key, value in result[4].items():\n",
        "        print(f'   {key}: {value:.3f}')\n",
        "    print('\\n')\n"
      ]
    },
    {
      "cell_type": "code",
      "execution_count": null,
      "id": "f544bd3c",
      "metadata": {
        "id": "f544bd3c"
      },
      "outputs": [],
      "source": [
        "# loop through unique years in the data\n",
        "for yr in npl_data['year'].unique():\n",
        "    # subset data for the year\n",
        "    yr_data = npl_data[npl_data['year'] == yr]\n",
        "\n",
        "    # loop through columns to test for stationarity\n",
        "    for col in cols:\n",
        "        # compute the augmented Dickey-Fuller test for the column\n",
        "        result = adfuller(yr_data[col])\n",
        "\n",
        "        # print the results of the test\n",
        "        print(f'Year {yr}, Column {col}:')\n",
        "        print('ADF Statistic: %f' % result[0])\n",
        "        print('p-value: %f' % result[1])\n",
        "        print('Critical Values:')\n",
        "        for key, value in result[4].items():\n",
        "            print('\\t%s: %.3f' % (key, value))\n",
        "        print()\n"
      ]
    },
    {
      "cell_type": "markdown",
      "id": "6b1d9593",
      "metadata": {
        "id": "6b1d9593"
      },
      "source": [
        "Stationarity in Panel format"
      ]
    },
    {
      "cell_type": "code",
      "execution_count": null,
      "id": "d780a099",
      "metadata": {
        "id": "d780a099"
      },
      "outputs": [],
      "source": [
        "from linearmodels.panel import PooledOLS\n",
        "from linearmodels.panel import PanelOLS\n",
        "import linearmodels.panel as pd\n",
        "\n",
        "# Make a copy of npl_data\n",
        "npl_data_copy = npl_data.copy()\n",
        "\n",
        "# Set the index of npl_data_copy as the individual and time variables\n",
        "npl_data_copy = npl_data_copy.set_index(['individual_id', 'year', 'quarter'])\n",
        "\n",
        "# Define the dependent variable\n",
        "dependent_var = 'NPL'\n",
        "\n",
        "# Define the independent variables\n",
        "independent_vars = ['Total Cash and Cash Equivalents', 'Total Assets', 'Total Liabilities', 'Retained Earnings', 'Total Equity',\n",
        "                    'Net Revenues', 'Operating Profit', 'Interest Expense', 'Financial Debt (TS)', 'Net Debt', 'EBITDA (TS)',\n",
        "                    'Current Ratio', 'Debt to Net Worth', 'DSCR (TS)', 'Operating Profit Margin', 'ROAA', 'Asset Turnover',\n",
        "                    'DEBT_CMTD', 'LOSS_RSV', 'LOAN_OUTSTANDING', 'TOT_ARR', 'NPL_PRIN', 'CR NUM', 'CRR NUM', 'WC to Assets Ratio',\n",
        "                    'RE to Assets Ratio', 'EBIT to Assets Ratio (annualized)', 'Equity to Liabilities Ratio', 'Z-Score (EBIT)',\n",
        "                    'Rev_Total_Assest', 'NPL_DEBT_CMTD']\n",
        "\n",
        "# Run the pooled OLS regression and save the results\n",
        "regression_results = PooledOLS(npl_data_copy[dependent_var], npl_data_copy[independent_vars]).fit(cov_type='clustered', cluster_entity=True)\n",
        "\n",
        "# Perform the Breusch-Pagan LM test and save the results\n",
        "bp_results = regression_results.diagnostic.het_breuschpagan()\n",
        "\n",
        "# Print the results\n",
        "print('Breusch-Pagan LM test results:')\n",
        "print('LM statistic:', bp_results[0])\n",
        "print('p-value:', bp_results[1])\n",
        "print('f-value:', bp_results[2])\n",
        "print('f p-value:', bp_results[3])\n"
      ]
    },
    {
      "cell_type": "markdown",
      "id": "5a5bab28",
      "metadata": {
        "id": "5a5bab28"
      },
      "source": [
        "Feature Selection"
      ]
    },
    {
      "cell_type": "code",
      "execution_count": null,
      "id": "82754b52",
      "metadata": {
        "id": "82754b52"
      },
      "outputs": [],
      "source": [
        "from sklearn.feature_selection import SelectKBest, mutual_info_classif\n",
        "from scipy.stats import pearsonr\n",
        "\n",
        "# Define the columns of interest\n",
        "columns_of_interest = ['Total Cash and Cash Equivalents', 'Total Current Assets', 'Total Assets', 'Total Current Liabilities', 'Total Liabilities',\n",
        "                       'Retained Earnings', 'Total Equity', 'Net Revenues', 'Operating Profit', 'Interest Expense', 'Interest Income', 'Income Tax Expense',\n",
        "                       'Net Income','Financial Debt (TS)', 'Net Debt', 'Current Ratio', 'Quick Ratio', 'Debt to Net Worth', 'Net Worth to Total Assets',\n",
        "                       'DSCR (TS)', 'Interest Coverage', 'Net Debt to EBITDA', 'EBITDA Margin', 'Operating Profit Margin', 'Net Profit Margin',\n",
        "                       'ROAA', 'Asset Turnover', 'DEBT_CMTD', 'LOAN_OUTSTANDING', 'WC to Assets Ratio', 'RE to Assets Ratio',\n",
        "                       'EBIT to Assets Ratio (annualized)', 'Equity to Liabilities Ratio', 'Z-Score (EBIT)', 'Rev_Total_Assest', 'NPL_DEBT_CMTD']\n",
        "\n",
        "# Separate the target variable from the features\n",
        "X1 = npl_data[columns_of_interest]\n",
        "y1 = npl_data['NPL']\n",
        "\n",
        "# Drop rows with missing values in X1 and y1\n",
        "X1_cleaned = X1.dropna()\n",
        "y1_cleaned = y1[X1_cleaned.index]\n",
        "\n",
        "# Correlation analysis\n",
        "corr_scores = []\n",
        "for column in X1_cleaned.columns:\n",
        "    corr_score, _ = pearsonr(X1_cleaned[column], y1_cleaned)\n",
        "    corr_scores.append(corr_score)\n",
        "corr_scores = np.abs(corr_scores)\n",
        "corr_features = X1_cleaned.columns[corr_scores >= 0.05].tolist()  # Convert to list\n",
        "\n",
        "# Mutual information\n",
        "mi_scores = mutual_info_classif(X1_cleaned, y1_cleaned)\n",
        "mi_features = X1_cleaned.columns[mi_scores >= 0.02]  # Select features with mutual information score >= 0.1\n"
      ]
    },
    {
      "cell_type": "code",
      "execution_count": null,
      "id": "7472120e",
      "metadata": {
        "id": "7472120e",
        "outputId": "10b84546-fb6f-4909-ac82-f23539236773"
      },
      "outputs": [
        {
          "name": "stdout",
          "output_type": "stream",
          "text": [
            "(18940, 36)\n",
            "(18940,)\n"
          ]
        }
      ],
      "source": [
        "print(X1_cleaned.shape)\n",
        "print(y1_cleaned.shape)"
      ]
    },
    {
      "cell_type": "code",
      "execution_count": null,
      "id": "ef6976b7",
      "metadata": {
        "id": "ef6976b7",
        "outputId": "5cf1731a-a71b-4b17-cef1-cfaf7da71a35"
      },
      "outputs": [
        {
          "name": "stdout",
          "output_type": "stream",
          "text": [
            "['Net Worth to Total Assets', 'DEBT_CMTD', 'WC to Assets Ratio', 'RE to Assets Ratio', 'Equity to Liabilities Ratio', 'NPL_DEBT_CMTD']\n"
          ]
        }
      ],
      "source": [
        "print(corr_features)"
      ]
    },
    {
      "cell_type": "code",
      "execution_count": null,
      "id": "401a342b",
      "metadata": {
        "id": "401a342b",
        "outputId": "ff558de6-6af5-45a6-b49d-e9d7da782be5"
      },
      "outputs": [
        {
          "name": "stdout",
          "output_type": "stream",
          "text": [
            "Index(['Total Assets', 'Retained Earnings', 'Total Equity', 'Operating Profit',\n",
            "       'Current Ratio', 'Quick Ratio', 'Debt to Net Worth',\n",
            "       'Net Worth to Total Assets', 'Interest Coverage', 'DEBT_CMTD',\n",
            "       'LOAN_OUTSTANDING', 'WC to Assets Ratio', 'RE to Assets Ratio',\n",
            "       'Equity to Liabilities Ratio', 'Z-Score (EBIT)', 'NPL_DEBT_CMTD'],\n",
            "      dtype='object')\n"
          ]
        }
      ],
      "source": [
        "print(mi_features)"
      ]
    },
    {
      "cell_type": "markdown",
      "id": "10f82e72",
      "metadata": {
        "id": "10f82e72"
      },
      "source": [
        "Normalization"
      ]
    },
    {
      "cell_type": "code",
      "execution_count": null,
      "id": "b96eb1b2",
      "metadata": {
        "id": "b96eb1b2"
      },
      "outputs": [],
      "source": [
        "from sklearn.preprocessing import MinMaxScaler\n",
        "\n",
        "# Create a scaler object\n",
        "scaler = MinMaxScaler()\n",
        "\n",
        "# Select the columns to normalize\n",
        "columns_to_normalize = ['Total Cash and Cash Equivalents', 'Total Current Assets', 'Total Assets', 'Total Current Liabilities', 'Total Liabilities',\n",
        "                        'Retained Earnings', 'Total Equity', 'Net Revenues', 'Operating Profit', 'Interest Expense', 'Interest Income', 'Income Tax Expense',\n",
        "                        'Net Income','Financial Debt (TS)', 'Net Debt', 'Current Ratio', 'Quick Ratio', 'Debt to Net Worth', 'Net Worth to Total Assets',\n",
        "                        'DSCR (TS)', 'Interest Coverage', 'Net Debt to EBITDA', 'EBITDA Margin', 'Operating Profit Margin', 'Net Profit Margin',\n",
        "                        'ROAA', 'Asset Turnover', 'DEBT_CMTD', 'LOAN_OUTSTANDING', 'WC to Assets Ratio', 'RE to Assets Ratio',\n",
        "                        'EBIT to Assets Ratio (annualized)', 'Equity to Liabilities Ratio', 'Z-Score (EBIT)', 'Rev_Total_Assest', 'NPL_DEBT_CMTD']\n",
        "\n",
        "# Create a new DataFrame to store the normalized values\n",
        "npl_c = npl_data.copy()\n",
        "\n",
        "# Normalize the selected columns and save the results to new columns in npl_c\n",
        "for column in columns_to_normalize:\n",
        "    column_normalized = scaler.fit_transform(npl_data[[column]])\n",
        "    npl_c[column + '_n'] = column_normalized\n"
      ]
    },
    {
      "cell_type": "code",
      "execution_count": null,
      "id": "9bbb9850",
      "metadata": {
        "id": "9bbb9850",
        "outputId": "fde189f6-bae5-4653-80f6-f7e5fa024ed6"
      },
      "outputs": [
        {
          "data": {
            "text/html": [
              "<div>\n",
              "<style scoped>\n",
              "    .dataframe tbody tr th:only-of-type {\n",
              "        vertical-align: middle;\n",
              "    }\n",
              "\n",
              "    .dataframe tbody tr th {\n",
              "        vertical-align: top;\n",
              "    }\n",
              "\n",
              "    .dataframe thead th {\n",
              "        text-align: right;\n",
              "    }\n",
              "</style>\n",
              "<table border=\"1\" class=\"dataframe\">\n",
              "  <thead>\n",
              "    <tr style=\"text-align: right;\">\n",
              "      <th></th>\n",
              "      <th>Total Cash and Cash Equivalents</th>\n",
              "      <th>Total Assets</th>\n",
              "      <th>Total Cash and Cash Equivalents_n</th>\n",
              "      <th>Total Assets_n</th>\n",
              "    </tr>\n",
              "  </thead>\n",
              "  <tbody>\n",
              "    <tr>\n",
              "      <th>0</th>\n",
              "      <td>40600000.0</td>\n",
              "      <td>1.406100e+09</td>\n",
              "      <td>0.000009</td>\n",
              "      <td>0.000002</td>\n",
              "    </tr>\n",
              "    <tr>\n",
              "      <th>1</th>\n",
              "      <td>30400000.0</td>\n",
              "      <td>1.178400e+09</td>\n",
              "      <td>0.000008</td>\n",
              "      <td>0.000002</td>\n",
              "    </tr>\n",
              "    <tr>\n",
              "      <th>2</th>\n",
              "      <td>7352000.0</td>\n",
              "      <td>7.439960e+08</td>\n",
              "      <td>0.000008</td>\n",
              "      <td>0.000001</td>\n",
              "    </tr>\n",
              "    <tr>\n",
              "      <th>3</th>\n",
              "      <td>9126000.0</td>\n",
              "      <td>8.071780e+08</td>\n",
              "      <td>0.000008</td>\n",
              "      <td>0.000001</td>\n",
              "    </tr>\n",
              "    <tr>\n",
              "      <th>4</th>\n",
              "      <td>5175000.0</td>\n",
              "      <td>8.130030e+08</td>\n",
              "      <td>0.000008</td>\n",
              "      <td>0.000001</td>\n",
              "    </tr>\n",
              "  </tbody>\n",
              "</table>\n",
              "</div>"
            ],
            "text/plain": [
              "   Total Cash and Cash Equivalents  Total Assets  \\\n",
              "0                       40600000.0  1.406100e+09   \n",
              "1                       30400000.0  1.178400e+09   \n",
              "2                        7352000.0  7.439960e+08   \n",
              "3                        9126000.0  8.071780e+08   \n",
              "4                        5175000.0  8.130030e+08   \n",
              "\n",
              "   Total Cash and Cash Equivalents_n  Total Assets_n  \n",
              "0                           0.000009        0.000002  \n",
              "1                           0.000008        0.000002  \n",
              "2                           0.000008        0.000001  \n",
              "3                           0.000008        0.000001  \n",
              "4                           0.000008        0.000001  "
            ]
          },
          "execution_count": 102,
          "metadata": {},
          "output_type": "execute_result"
        }
      ],
      "source": [
        "npl_c[['Total Cash and Cash Equivalents', 'Total Assets', 'Total Cash and Cash Equivalents_n', 'Total Assets_n']].head(5)"
      ]
    },
    {
      "cell_type": "code",
      "execution_count": null,
      "id": "900fcd1b",
      "metadata": {
        "id": "900fcd1b"
      },
      "outputs": [],
      "source": [
        "# Drop the unnormalized columns\n",
        "npl_c.drop(columns_to_normalize, axis=1, inplace=True)"
      ]
    },
    {
      "cell_type": "code",
      "execution_count": null,
      "id": "6b1eb422",
      "metadata": {
        "id": "6b1eb422",
        "outputId": "2d80373c-58ff-47b9-f3c2-42993e9bf24e"
      },
      "outputs": [
        {
          "name": "stdout",
          "output_type": "stream",
          "text": [
            "['individual_id', 'quarter', 'year', 'Active Portfolio Indicator', 'Statement Months', 'EBITDA (TS)', 'Current Ratio excl prepaids [TS]', 'Liabilities to Net Worth', 'Liabilities to Assets', 'CR NUM', 'EBITDA to Assets Ratio (annualized)', 'Operating Profit to Assets Ratio (annualized)', 'Partner Region_CAF', 'Partner Region_CAT', 'Partner Region_CEA', 'Partner Region_CEU', 'Partner Region_CLA', 'Partner Region_CME', 'Partner Region_CSA', 'Partner Region_WLD', 'Partner Industry_INFRA', 'Partner Industry_MAS', 'NPL', 'Total Cash and Cash Equivalents_n', 'Total Current Assets_n', 'Total Assets_n', 'Total Current Liabilities_n', 'Total Liabilities_n', 'Retained Earnings_n', 'Total Equity_n', 'Net Revenues_n', 'Operating Profit_n', 'Interest Expense_n', 'Interest Income_n', 'Income Tax Expense_n', 'Net Income_n', 'Financial Debt (TS)_n', 'Net Debt_n', 'Current Ratio_n', 'Quick Ratio_n', 'Debt to Net Worth_n', 'Net Worth to Total Assets_n', 'DSCR (TS)_n', 'Interest Coverage_n', 'Net Debt to EBITDA_n', 'EBITDA Margin_n', 'Operating Profit Margin_n', 'Net Profit Margin_n', 'ROAA_n', 'Asset Turnover_n', 'DEBT_CMTD_n', 'LOAN_OUTSTANDING_n', 'WC to Assets Ratio_n', 'RE to Assets Ratio_n', 'EBIT to Assets Ratio (annualized)_n', 'Equity to Liabilities Ratio_n', 'Z-Score (EBIT)_n', 'Rev_Total_Assest_n', 'NPL_DEBT_CMTD_n']\n"
          ]
        }
      ],
      "source": [
        "print(npl_c.columns.tolist())"
      ]
    },
    {
      "cell_type": "code",
      "execution_count": null,
      "id": "e85564e9",
      "metadata": {
        "id": "e85564e9",
        "outputId": "a573e4a8-ed9a-4544-a797-62e6b09041b3"
      },
      "outputs": [
        {
          "name": "stdout",
          "output_type": "stream",
          "text": [
            "(59838, 59)\n"
          ]
        }
      ],
      "source": [
        "print(npl_c.shape)"
      ]
    },
    {
      "cell_type": "code",
      "execution_count": null,
      "id": "7248624d",
      "metadata": {
        "id": "7248624d"
      },
      "outputs": [],
      "source": [
        "npl_c = npl_c.drop(columns=['EBITDA (TS)', 'Current Ratio excl prepaids [TS]', 'Liabilities to Net Worth', 'Liabilities to Assets', 'EBITDA to Assets Ratio (annualized)', 'Operating Profit to Assets Ratio (annualized)'])"
      ]
    },
    {
      "cell_type": "code",
      "execution_count": null,
      "id": "7eec3003",
      "metadata": {
        "id": "7eec3003",
        "outputId": "497f00e1-4875-4186-cf4a-49e2150f4d15"
      },
      "outputs": [
        {
          "name": "stdout",
          "output_type": "stream",
          "text": [
            "(59838, 53)\n"
          ]
        }
      ],
      "source": [
        "print(npl_c.shape)"
      ]
    },
    {
      "cell_type": "code",
      "execution_count": null,
      "id": "06982a3c",
      "metadata": {
        "id": "06982a3c"
      },
      "outputs": [],
      "source": [
        "npl_c = npl_c.drop(columns=['Financial Debt (TS)_n', 'Z-Score (EBIT)_n', 'Operating Profit Margin_n', 'Total Assets_n', 'Debt to Net Worth_n'])"
      ]
    },
    {
      "cell_type": "code",
      "execution_count": null,
      "id": "30ee8a46",
      "metadata": {
        "id": "30ee8a46",
        "outputId": "c46ec6ef-0889-48de-95fa-462bda421a2b"
      },
      "outputs": [
        {
          "name": "stdout",
          "output_type": "stream",
          "text": [
            "(59838, 48)\n"
          ]
        }
      ],
      "source": [
        "print(npl_c.shape)"
      ]
    },
    {
      "cell_type": "code",
      "execution_count": null,
      "id": "2fbf67ee",
      "metadata": {
        "id": "2fbf67ee",
        "outputId": "6763b6f6-7ad2-4a8f-b08e-3a6c7bb03d8d"
      },
      "outputs": [
        {
          "name": "stdout",
          "output_type": "stream",
          "text": [
            "['individual_id', 'quarter', 'year', 'Active Portfolio Indicator', 'Statement Months', 'CR NUM', 'Partner Region_CAF', 'Partner Region_CAT', 'Partner Region_CEA', 'Partner Region_CEU', 'Partner Region_CLA', 'Partner Region_CME', 'Partner Region_CSA', 'Partner Region_WLD', 'Partner Industry_INFRA', 'Partner Industry_MAS', 'NPL', 'Total Cash and Cash Equivalents_n', 'Total Current Assets_n', 'Total Current Liabilities_n', 'Total Liabilities_n', 'Retained Earnings_n', 'Total Equity_n', 'Net Revenues_n', 'Operating Profit_n', 'Interest Expense_n', 'Interest Income_n', 'Income Tax Expense_n', 'Net Income_n', 'Net Debt_n', 'Current Ratio_n', 'Quick Ratio_n', 'Net Worth to Total Assets_n', 'DSCR (TS)_n', 'Interest Coverage_n', 'Net Debt to EBITDA_n', 'EBITDA Margin_n', 'Net Profit Margin_n', 'ROAA_n', 'Asset Turnover_n', 'DEBT_CMTD_n', 'LOAN_OUTSTANDING_n', 'WC to Assets Ratio_n', 'RE to Assets Ratio_n', 'EBIT to Assets Ratio (annualized)_n', 'Equity to Liabilities Ratio_n', 'Rev_Total_Assest_n', 'NPL_DEBT_CMTD_n']\n"
          ]
        }
      ],
      "source": [
        "print(npl_c.columns.tolist())"
      ]
    },
    {
      "cell_type": "code",
      "execution_count": null,
      "id": "95a79023",
      "metadata": {
        "id": "95a79023"
      },
      "outputs": [],
      "source": [
        "npl_c = npl_c.drop(columns=['Total Current Assets_n', 'Total Current Liabilities_n', 'Quick Ratio_n', 'Net Debt to EBITDA_n', 'EBITDA Margin_n', 'Net Profit Margin_n'])"
      ]
    },
    {
      "cell_type": "code",
      "execution_count": null,
      "id": "269a1b11",
      "metadata": {
        "id": "269a1b11",
        "outputId": "3e1bc420-dbfa-4c21-b303-9cc2e36b5a5d"
      },
      "outputs": [
        {
          "name": "stdout",
          "output_type": "stream",
          "text": [
            "(59838, 42)\n"
          ]
        }
      ],
      "source": [
        "print(npl_c.shape)"
      ]
    },
    {
      "cell_type": "code",
      "execution_count": null,
      "id": "817dd99c",
      "metadata": {
        "id": "817dd99c",
        "outputId": "7d5aca02-e2c9-4b3f-f83e-8b8cb44ae09a"
      },
      "outputs": [
        {
          "name": "stdout",
          "output_type": "stream",
          "text": [
            "['individual_id', 'quarter', 'year', 'Active Portfolio Indicator', 'Statement Months', 'CR NUM', 'Partner Region_CAF', 'Partner Region_CAT', 'Partner Region_CEA', 'Partner Region_CEU', 'Partner Region_CLA', 'Partner Region_CME', 'Partner Region_CSA', 'Partner Region_WLD', 'Partner Industry_INFRA', 'Partner Industry_MAS', 'NPL', 'Total Cash and Cash Equivalents_n', 'Total Liabilities_n', 'Retained Earnings_n', 'Total Equity_n', 'Net Revenues_n', 'Operating Profit_n', 'Interest Expense_n', 'Interest Income_n', 'Income Tax Expense_n', 'Net Income_n', 'Net Debt_n', 'Current Ratio_n', 'Net Worth to Total Assets_n', 'DSCR (TS)_n', 'Interest Coverage_n', 'ROAA_n', 'Asset Turnover_n', 'DEBT_CMTD_n', 'LOAN_OUTSTANDING_n', 'WC to Assets Ratio_n', 'RE to Assets Ratio_n', 'EBIT to Assets Ratio (annualized)_n', 'Equity to Liabilities Ratio_n', 'Rev_Total_Assest_n', 'NPL_DEBT_CMTD_n']\n"
          ]
        }
      ],
      "source": [
        "print(npl_c.columns.tolist())"
      ]
    },
    {
      "cell_type": "code",
      "execution_count": null,
      "id": "99c5fa72",
      "metadata": {
        "id": "99c5fa72",
        "outputId": "ee00680f-327f-4610-89f7-3ddc3e9e2bd4"
      },
      "outputs": [
        {
          "name": "stdout",
          "output_type": "stream",
          "text": [
            "Percentage of individuals with NPL as 1: 9.61%\n"
          ]
        }
      ],
      "source": [
        "# Calculate the total number of individuals\n",
        "total_individuals = len(npl_c['individual_id'].unique())\n",
        "\n",
        "# Calculate the number of individuals with NPL as 1\n",
        "npl_1_individuals = npl_c[npl_c['NPL'] == 1]['individual_id'].nunique()\n",
        "\n",
        "# Calculate the percentage of individuals with NPL as 1\n",
        "npl_1_c = (npl_1_individuals / total_individuals) * 100\n",
        "\n",
        "# Print the result\n",
        "print(f\"Percentage of individuals with NPL as 1: {npl_1_c:.2f}%\")"
      ]
    },
    {
      "cell_type": "code",
      "execution_count": null,
      "id": "87d5b3dd",
      "metadata": {
        "id": "87d5b3dd"
      },
      "outputs": [],
      "source": [
        "# Filter the data to only include rows where NPL is equal to 1\n",
        "npl_1_data = npl_c[npl_c['NPL'] == 1]\n",
        "\n",
        "# Filter the data to only include rows where NPL is equal to 0\n",
        "npl_0_data = npl_c[npl_c['NPL'] == 0]\n",
        "\n",
        "# Calculate the differences in the columns between the two filtered DataFrames\n",
        "diff = npl_1_data.mean() - npl_0_data.mean()\n",
        "\n",
        "# Print the resulting Series\n",
        "print(diff)"
      ]
    },
    {
      "cell_type": "code",
      "execution_count": null,
      "id": "7e91a337",
      "metadata": {
        "id": "7e91a337"
      },
      "outputs": [],
      "source": []
    },
    {
      "cell_type": "code",
      "execution_count": null,
      "id": "c4933afe",
      "metadata": {
        "id": "c4933afe"
      },
      "outputs": [],
      "source": []
    },
    {
      "cell_type": "markdown",
      "id": "28e6fe7f",
      "metadata": {
        "id": "28e6fe7f"
      },
      "source": [
        "Trying to see if SMOTE and RUS can address data imbalance and data overlap"
      ]
    },
    {
      "cell_type": "code",
      "execution_count": null,
      "id": "a3f70b8e",
      "metadata": {
        "id": "a3f70b8e"
      },
      "outputs": [],
      "source": [
        "#combining both oversampling and undersampling\n",
        "from imblearn.over_sampling import SMOTE\n",
        "from imblearn.under_sampling import RandomUnderSampler\n",
        "from sklearn.model_selection import train_test_split\n",
        "\n",
        "# Split the data into features (X) and target (y)\n",
        "X_crd = npl_c.drop('NPL', axis=1)\n",
        "y_crd = npl_c['NPL']\n",
        "\n",
        "# Split the data into a training set and a test set, with a 80/20 split\n",
        "X_train_crd, X_test_crd, y_train_crd, y_test_crd = train_test_split(X_crd, y_crd, test_size=0.2, random_state=42, stratify=y_crd)\n",
        "\n",
        "# Apply RUS to undersample the majority class in the training set\n",
        "rus = RandomUnderSampler(random_state=42)\n",
        "X_train_crd, y_train_crd = rus.fit_resample(X_train_crd, y_train_crd)"
      ]
    },
    {
      "cell_type": "code",
      "execution_count": null,
      "id": "971e3607",
      "metadata": {
        "id": "971e3607",
        "outputId": "8025b118-e6e4-4003-fa01-41fa06dcd34d"
      },
      "outputs": [
        {
          "name": "stdout",
          "output_type": "stream",
          "text": [
            "Class distribution in the resampled training set: 0    1923\n",
            "1    1923\n",
            "Name: NPL, dtype: int64\n",
            "Class distribution in the test set: 0    11487\n",
            "1      481\n",
            "Name: NPL, dtype: int64\n"
          ]
        }
      ],
      "source": [
        "# Print the class distribution in the resampled training set\n",
        "print('Class distribution in the resampled training set:', y_train_crd.value_counts())\n",
        "\n",
        "# Print the class distribution in the test set\n",
        "print('Class distribution in the test set:', y_test_crd.value_counts())"
      ]
    },
    {
      "cell_type": "code",
      "execution_count": null,
      "id": "59bec0bb",
      "metadata": {
        "id": "59bec0bb",
        "outputId": "e49f39da-4c44-43dc-b88e-bdbb8ef9b693"
      },
      "outputs": [
        {
          "name": "stdout",
          "output_type": "stream",
          "text": [
            "X_train shape: (3846, 39)\n",
            "X_test shape: (11968, 39)\n",
            "y_train shape: (3846,)\n",
            "y_test shape: (11968,)\n"
          ]
        }
      ],
      "source": [
        "# Print the shape of the train and test sets\n",
        "print('X_train shape:', X_train_crd.shape)\n",
        "print('X_test shape:', X_test_crd.shape)\n",
        "print('y_train shape:', y_train_crd.shape)\n",
        "print('y_test shape:', y_test_crd.shape)"
      ]
    },
    {
      "cell_type": "code",
      "execution_count": null,
      "id": "51eaa350",
      "metadata": {
        "id": "51eaa350",
        "outputId": "4c563c0b-9347-4b58-84eb-72bd975df81f"
      },
      "outputs": [
        {
          "name": "stdout",
          "output_type": "stream",
          "text": [
            "       individual_id  quarter  year  CR NUM  Partner Region_CAF  \\\n",
            "41017         723965        1  2015     9.0                   0   \n",
            "53468        1023435        4  2018    10.0                   0   \n",
            "14433          54246        3  2020    12.0                   0   \n",
            "45664         769144        4  2016     NaN                   0   \n",
            "36192         659784        4  2014    14.0                   0   \n",
            "...              ...      ...   ...     ...                 ...   \n",
            "13426          53942        4  2004     NaN                   0   \n",
            "23806         565457        2  2012     7.0                   0   \n",
            "7923           51532        2  2015    14.0                   0   \n",
            "54103        1025978        2  2020     NaN                   0   \n",
            "44932         764086        3  2016    10.0                   0   \n",
            "\n",
            "       Partner Region_CAT  Partner Region_CEA  Partner Region_CEU  \\\n",
            "41017                   0                   0                   0   \n",
            "53468                   0                   0                   0   \n",
            "14433                   0                   0                   0   \n",
            "45664                   0                   0                   0   \n",
            "36192                   0                   0                   0   \n",
            "...                   ...                 ...                 ...   \n",
            "13426                   0                   0                   0   \n",
            "23806                   0                   0                   0   \n",
            "7923                    0                   0                   0   \n",
            "54103                   0                   0                   0   \n",
            "44932                   0                   0                   0   \n",
            "\n",
            "       Partner Region_CLA  Partner Region_CME  ...    ROAA_n  \\\n",
            "41017                   0                   0  ...  0.004205   \n",
            "53468                   0                   0  ...  0.004205   \n",
            "14433                   0                   0  ...  0.004205   \n",
            "45664                   1                   0  ...  0.004205   \n",
            "36192                   0                   0  ...  0.004205   \n",
            "...                   ...                 ...  ...       ...   \n",
            "13426                   0                   0  ...  0.004205   \n",
            "23806                   0                   1  ...  0.004205   \n",
            "7923                    1                   0  ...  0.004205   \n",
            "54103                   1                   0  ...  0.004205   \n",
            "44932                   1                   0  ...  0.004205   \n",
            "\n",
            "       Asset Turnover_n  DEBT_CMTD_n  LOAN_OUTSTANDING_n  \\\n",
            "41017      7.215520e-07     0.053145            0.049187   \n",
            "53468      7.211055e-07     0.116379            0.094203   \n",
            "14433      7.194263e-07     0.171605            0.033816   \n",
            "45664      7.190575e-07          NaN                 NaN   \n",
            "36192      7.186884e-07     0.030172            0.033816   \n",
            "...                 ...          ...                 ...   \n",
            "13426      7.252753e-07          NaN                 NaN   \n",
            "23806      7.187121e-07     0.059659            0.066865   \n",
            "7923       7.216781e-07     0.040865            0.045800   \n",
            "54103      7.193377e-07          NaN                 NaN   \n",
            "44932      7.191148e-07     0.041688            0.046723   \n",
            "\n",
            "       WC to Assets Ratio_n  RE to Assets Ratio_n  \\\n",
            "41017              0.996946              0.855914   \n",
            "53468              0.996272              0.855693   \n",
            "14433              0.995656              0.855439   \n",
            "45664              0.995507              0.851006   \n",
            "36192              0.995260              0.855818   \n",
            "...                     ...                   ...   \n",
            "13426              0.998028              0.838350   \n",
            "23806              0.994387              0.854542   \n",
            "7923               0.995305              0.855500   \n",
            "54103              0.995340              0.855406   \n",
            "44932              0.995197              0.855386   \n",
            "\n",
            "       EBIT to Assets Ratio (annualized)_n  Equity to Liabilities Ratio_n  \\\n",
            "41017                             0.000013                       0.000015   \n",
            "53468                             0.000013                       0.000014   \n",
            "14433                             0.000013                       0.000016   \n",
            "45664                             0.000013                       0.000027   \n",
            "36192                             0.000013                       0.000014   \n",
            "...                                    ...                            ...   \n",
            "13426                             0.000013                       0.000019   \n",
            "23806                             0.000013                       0.000015   \n",
            "7923                              0.000013                       0.000014   \n",
            "54103                             0.000013                       0.000015   \n",
            "44932                             0.000013                       0.000014   \n",
            "\n",
            "       Rev_Total_Assest_n  NPL_DEBT_CMTD_n  \n",
            "41017        7.215520e-07         0.251129  \n",
            "53468        7.211055e-07         0.251129  \n",
            "14433        7.194263e-07         0.251129  \n",
            "45664        7.190575e-07              NaN  \n",
            "36192        7.186510e-07         0.251129  \n",
            "...                   ...              ...  \n",
            "13426        7.252753e-07              NaN  \n",
            "23806        7.187121e-07         0.251129  \n",
            "7923         7.216781e-07         0.251129  \n",
            "54103        7.193377e-07              NaN  \n",
            "44932        7.189708e-07         0.251129  \n",
            "\n",
            "[11968 rows x 39 columns]\n"
          ]
        }
      ],
      "source": [
        "print(X_test_crd)"
      ]
    },
    {
      "cell_type": "markdown",
      "id": "c5784e98",
      "metadata": {
        "id": "c5784e98"
      },
      "source": [
        "Building the model using variants of gradient boosting algorithm"
      ]
    },
    {
      "cell_type": "code",
      "execution_count": null,
      "id": "87e7e5d3",
      "metadata": {
        "id": "87e7e5d3"
      },
      "outputs": [],
      "source": [
        "from scipy import stats\n",
        "from sklearn.ensemble import HistGradientBoostingClassifier\n",
        "from sklearn.ensemble import VotingClassifier\n",
        "from sklearn.metrics import accuracy_score, f1_score, roc_auc_score\n",
        "from sklearn.preprocessing import StandardScaler\n",
        "from xgboost import XGBClassifier\n",
        "from lightgbm import LGBMClassifier\n",
        "from catboost import CatBoostClassifier\n",
        "import joblib"
      ]
    },
    {
      "cell_type": "code",
      "execution_count": null,
      "id": "8c87701e",
      "metadata": {
        "id": "8c87701e",
        "outputId": "785a44af-7d3d-4f27-e3c1-f6d59ccaca68"
      },
      "outputs": [
        {
          "data": {
            "text/plain": [
              "['ensemble_model_crd.joblib']"
            ]
          },
          "execution_count": 135,
          "metadata": {},
          "output_type": "execute_result"
        }
      ],
      "source": [
        "# HistGradient Boosting model\n",
        "hgb_model_crd = HistGradientBoostingClassifier(max_iter=100, random_state=42)\n",
        "hgb_model_crd.fit(X_train_crd, y_train_crd)\n",
        "hgb_pred_crd = hgb_model_crd.predict(X_test_crd)\n",
        "joblib.dump(hgb_model_crd, 'hgb_model_crd.joblib')\n",
        "\n",
        "# XGBoost Classifier model\n",
        "xgb_model_crd = XGBClassifier(n_estimators=100, random_state=42)\n",
        "xgb_model_crd.fit(X_train_crd, y_train_crd)\n",
        "xgb_pred_crd = xgb_model_crd.predict(X_test_crd)\n",
        "joblib.dump(xgb_model_crd, 'xgb_model_crd.joblib')\n",
        "\n",
        "# LightGBM Classifier model\n",
        "lgbm_model_crd = LGBMClassifier(n_estimators=100, random_state=42)\n",
        "lgbm_model_crd.fit(X_train_crd, y_train_crd)\n",
        "lgbm_pred_crd = lgbm_model_crd.predict(X_test_crd)\n",
        "joblib.dump(lgbm_model_crd, 'lgbm_model_crd.joblib')\n",
        "\n",
        "# CatBoost Classifier model\n",
        "cat_model_crd = CatBoostClassifier(n_estimators=100, random_state=42, silent=True)\n",
        "cat_model_crd.fit(X_train_crd, y_train_crd)\n",
        "cat_pred_crd = cat_model_crd.predict(X_test_crd)\n",
        "joblib.dump(cat_model_crd, 'cat_model_crd.joblib')\n",
        "\n",
        "# Ensemble model\n",
        "ensemble_model_crd = VotingClassifier(estimators=[\n",
        "    ('hgb', hgb_model_crd), ('xgb', xgb_model_crd), ('lgbm', lgbm_model_crd), ('cat', cat_model_crd)], voting='soft')\n",
        "ensemble_model_crd.fit(X_train_crd, y_train_crd)\n",
        "ensemble_pred_crd = ensemble_model_crd.predict(X_test_crd)\n",
        "joblib.dump(ensemble_model_crd, 'ensemble_model_crd.joblib')\n"
      ]
    },
    {
      "cell_type": "code",
      "execution_count": null,
      "id": "e4f90259",
      "metadata": {
        "id": "e4f90259"
      },
      "outputs": [],
      "source": [
        "from sklearn.model_selection import StratifiedKFold\n",
        "\n",
        "# Create the stratified k-fold object\n",
        "stratified_kfold = StratifiedKFold(n_splits=5, shuffle=True, random_state=42)\n",
        "\n",
        "# Perform cross-validation\n",
        "hgb_crd = cross_validate(hgb_model_crd, X_train_crd, y_train_crd, cv=stratified_kfold, return_train_score=True)\n",
        "\n",
        "# Print the training and testing scores for each fold\n",
        "for i in range(5):\n",
        "    print(f'Fold {i+1}:')\n",
        "    print(f'Training score: {hgb_crd[\"train_score\"][i]:.4f} ± {hgb_crd[\"train_score\"].std():.4f}')\n",
        "    print(f'Testing score: {hgb_crd[\"test_score\"][i]:.4f} ± {hgb_crd[\"test_score\"].std():.4f}')\n",
        "    print('')\n",
        "\n",
        "# Print the mean training and testing scores across all folds\n",
        "print(f'Mean training score: {hgb_crd[\"train_score\"].mean():.4f} ± {hgb_crd[\"train_score\"].std():.4f}')\n",
        "print(f'Mean testing score: {hgb_crd[\"test_score\"].mean():.4f} ± {hgb_crd[\"test_score\"].std():.4f}')\n"
      ]
    },
    {
      "cell_type": "code",
      "execution_count": null,
      "id": "e61d179c",
      "metadata": {
        "id": "e61d179c"
      },
      "outputs": [],
      "source": [
        "import matplotlib.pyplot as plt\n",
        "\n",
        "# Create lists of mean and standard deviation scores for training and testing\n",
        "train_scores_crd = hgb_crd['train_score']\n",
        "test_scores_crd = hgb_crd['test_score']\n",
        "train_mean_crd = train_scores_crd.mean()\n",
        "test_mean_crd = test_scores_crd.mean()\n",
        "train_std_crd = train_scores_crd.std()\n",
        "test_std_crd = test_scores_crd.std()\n",
        "\n",
        "# Create x-axis labels for each fold\n",
        "x_labels = [f'Fold {i+1}' for i in range(5)]\n",
        "\n",
        "# Create bar chart with error bars\n",
        "fig, ax = plt.subplots()\n",
        "ax.bar(x_labels, train_scores_crd, yerr=train_std_crd, label='Training')\n",
        "ax.bar(x_labels, test_scores_crd, yerr=test_std_crd, label='Testing')\n",
        "ax.set_xlabel('Fold')\n",
        "ax.set_ylabel('Score')\n",
        "ax.set_ylim([0.8, 1.0])\n",
        "ax.legend()\n",
        "ax.set_title('HistGradient Boosting: Cross-validation scores')\n",
        "plt.show()\n"
      ]
    },
    {
      "cell_type": "code",
      "execution_count": null,
      "id": "760b1209",
      "metadata": {
        "id": "760b1209"
      },
      "outputs": [],
      "source": [
        "from sklearn.metrics import precision_recall_curve, roc_auc_score, matthews_corrcoef, balanced_accuracy_score, f1_score, auc\n",
        "from imblearn.metrics import geometric_mean_score\n",
        "\n",
        "# Load the trained models\n",
        "hgb_model_crd = joblib.load('hgb_model_crd.joblib')\n",
        "xgb_model_crd = joblib.load('xgb_model_crd.joblib')\n",
        "lgbm_model_crd = joblib.load('lgbm_model_crd.joblib')\n",
        "cat_model_crd = joblib.load('cat_model_crd.joblib')\n",
        "ensemble_model_crd = joblib.load('ensemble_model_crd.joblib')\n",
        "\n",
        "# Predict probabilities for positive class\n",
        "hgb_pred_proba_crd = hgb_model_crd.predict_proba(X_test_crd)[:, 1]\n",
        "xgb_pred_proba_crd = xgb_model_crd.predict_proba(X_test_crd)[:, 1]\n",
        "lgbm_pred_proba_crd = lgbm_model_crd.predict_proba(X_test_crd)[:, 1]\n",
        "cat_pred_proba_crd = cat_model_crd.predict_proba(X_test_crd)[:, 1]\n",
        "ensemble_pred_proba_crd = ensemble_model_crd.predict_proba(X_test_crd)[:, 1]\n",
        "\n",
        "# Calculate Precision-Recall curve\n",
        "precision, recall, _ = precision_recall_curve(y_test_crd, hgb_pred_proba_crd)\n",
        "hgb_pr_auc = auc(recall, precision)\n",
        "precision, recall, _ = precision_recall_curve(y_test_crd, xgb_pred_proba_crd)\n",
        "xgb_pr_auc = auc(recall, precision)\n",
        "precision, recall, _ = precision_recall_curve(y_test_crd, lgbm_pred_proba_crd)\n",
        "lgbm_pr_auc = auc(recall, precision)\n",
        "precision, recall, _ = precision_recall_curve(y_test_crd, cat_pred_proba_crd)\n",
        "cat_pr_auc = auc(recall, precision)\n",
        "precision, recall, _ = precision_recall_curve(y_test_crd, ensemble_pred_proba_crd)\n",
        "ensemble_pr_auc = auc(recall, precision)\n"
      ]
    },
    {
      "cell_type": "code",
      "execution_count": null,
      "id": "fd66b33f",
      "metadata": {
        "id": "fd66b33f",
        "outputId": "1333ca22-23ec-4ee5-8483-e93ae45d32a7"
      },
      "outputs": [
        {
          "name": "stdout",
          "output_type": "stream",
          "text": [
            "PR AUC Scores:\n",
            "HistGradient Boosting: 0.7774780497008129\n",
            "XGBoost: 0.7799380695332583\n",
            "LightGBM: 0.7781219213415904\n",
            "CatBoost: 0.7968975748246494\n",
            "Ensemble: 0.8033806218614915\n",
            "\n"
          ]
        }
      ],
      "source": [
        "# Print the evaluation metrics\n",
        "print('PR AUC Scores:')\n",
        "print('HistGradient Boosting:', hgb_pr_auc)\n",
        "print('XGBoost:', xgb_pr_auc)\n",
        "print('LightGBM:', lgbm_pr_auc)\n",
        "print('CatBoost:', cat_pr_auc)\n",
        "print('Ensemble:', ensemble_pr_auc)\n",
        "print('')"
      ]
    },
    {
      "cell_type": "code",
      "execution_count": null,
      "id": "8dddd213",
      "metadata": {
        "id": "8dddd213"
      },
      "outputs": [],
      "source": [
        "from sklearn.metrics import matthews_corrcoef\n",
        "hgb_mcc = matthews_corrcoef(y_test_crd, hgb_pred_crd)\n",
        "xgb_mcc = matthews_corrcoef(y_test_crd, xgb_pred_crd)\n",
        "lgbm_mcc = matthews_corrcoef(y_test_crd, lgbm_pred_crd)\n",
        "cat_mcc = matthews_corrcoef(y_test_crd, cat_pred_crd)\n",
        "ensemble_mcc = matthews_corrcoef(y_test_crd, ensemble_pred_crd)\n"
      ]
    },
    {
      "cell_type": "code",
      "execution_count": null,
      "id": "a3339c0c",
      "metadata": {
        "id": "a3339c0c",
        "outputId": "ef251b60-eb77-4146-b6a0-109f580f5537"
      },
      "outputs": [
        {
          "name": "stdout",
          "output_type": "stream",
          "text": [
            "Matthews Correlation Coefficient:\n",
            "HistGradient Boosting: 0.5457255914966886\n",
            "XGBoost: 0.5360221116480683\n",
            "LightGBM: 0.5358431032386407\n",
            "CatBoost: 0.5346431354754972\n",
            "Ensemble: 0.5449366487824467\n",
            "\n"
          ]
        }
      ],
      "source": [
        "print('Matthews Correlation Coefficient:')\n",
        "print('HistGradient Boosting:', hgb_mcc)\n",
        "print('XGBoost:', xgb_mcc)\n",
        "print('LightGBM:', lgbm_mcc)\n",
        "print('CatBoost:', cat_mcc)\n",
        "print('Ensemble:', ensemble_mcc)\n",
        "print('')"
      ]
    },
    {
      "cell_type": "code",
      "execution_count": null,
      "id": "4013fa47",
      "metadata": {
        "id": "4013fa47"
      },
      "outputs": [],
      "source": [
        "# Calculate Balanced Accuracy\n",
        "hgb_balanced_acc = balanced_accuracy_score(y_test_crd, hgb_pred_crd)\n",
        "xgb_balanced_acc = balanced_accuracy_score(y_test_crd, xgb_pred_crd)\n",
        "lgbm_balanced_acc = balanced_accuracy_score(y_test_crd, lgbm_pred_crd)\n",
        "cat_balanced_acc = balanced_accuracy_score(y_test_crd, cat_pred_crd)\n",
        "ensemble_balanced_acc = balanced_accuracy_score(y_test_crd, ensemble_pred_crd)"
      ]
    },
    {
      "cell_type": "code",
      "execution_count": null,
      "id": "4979a74e",
      "metadata": {
        "id": "4979a74e",
        "outputId": "6df88af2-41f8-4716-b197-2519bb509d2b"
      },
      "outputs": [
        {
          "name": "stdout",
          "output_type": "stream",
          "text": [
            "Balanced Accuracy:\n",
            "HistGradient Boosting: 0.9377873061602495\n",
            "XGBoost: 0.9309844428674411\n",
            "LightGBM: 0.9292971879809174\n",
            "CatBoost: 0.9315451417828018\n",
            "Ensemble: 0.9351476051658867\n",
            "\n"
          ]
        }
      ],
      "source": [
        "print('Balanced Accuracy:')\n",
        "print('HistGradient Boosting:', hgb_balanced_acc)\n",
        "print('XGBoost:', xgb_balanced_acc)\n",
        "print('LightGBM:', lgbm_balanced_acc)\n",
        "print('CatBoost:', cat_balanced_acc)\n",
        "print('Ensemble:', ensemble_balanced_acc)\n",
        "print('')"
      ]
    },
    {
      "cell_type": "code",
      "execution_count": null,
      "id": "0372428f",
      "metadata": {
        "id": "0372428f"
      },
      "outputs": [],
      "source": [
        "# Calculate Geometric Mean\n",
        "hgb_geo_mean = geometric_mean_score(y_test_crd, hgb_pred_crd)\n",
        "xgb_geo_mean = geometric_mean_score(y_test_crd, xgb_pred_crd)\n",
        "lgbm_geo_mean = geometric_mean_score(y_test_crd, lgbm_pred_crd)\n",
        "cat_geo_mean = geometric_mean_score(y_test_crd, cat_pred_crd)\n",
        "ensemble_geo_mean = geometric_mean_score(y_test_crd, ensemble_pred_crd)"
      ]
    },
    {
      "cell_type": "code",
      "execution_count": null,
      "id": "1adcef48",
      "metadata": {
        "id": "1adcef48",
        "outputId": "e1fc083d-9f06-4e41-c25f-657cbf4df270"
      },
      "outputs": [
        {
          "name": "stdout",
          "output_type": "stream",
          "text": [
            "Geometric Mean:\n",
            "HistGradient Boosting: 0.9376768083784981\n",
            "XGBoost: 0.930943562207754\n",
            "LightGBM: 0.9292761453037365\n",
            "CatBoost: 0.9314888277522145\n",
            "Ensemble: 0.9350852577620347\n",
            "\n"
          ]
        }
      ],
      "source": [
        "print('Geometric Mean:')\n",
        "print('HistGradient Boosting:', hgb_geo_mean)\n",
        "print('XGBoost:', xgb_geo_mean)\n",
        "print('LightGBM:', lgbm_geo_mean)\n",
        "print('CatBoost:', cat_geo_mean)\n",
        "print('Ensemble:', ensemble_geo_mean)\n",
        "print('')"
      ]
    },
    {
      "cell_type": "code",
      "execution_count": null,
      "id": "98920046",
      "metadata": {
        "id": "98920046"
      },
      "outputs": [],
      "source": [
        "# Calculate F1 score\n",
        "hgb_f1 = f1_score(y_test_crd, hgb_pred_crd)\n",
        "xgb_f1 = f1_score(y_test_crd, xgb_pred_crd)\n",
        "lgbm_f1 = f1_score(y_test_crd, lgbm_pred_crd)\n",
        "cat_f1 = f1_score(y_test_crd, cat_pred_crd)\n",
        "ensemble_f1 = f1_score(y_test_crd, ensemble_pred_crd)"
      ]
    },
    {
      "cell_type": "code",
      "execution_count": null,
      "id": "1207f071",
      "metadata": {
        "id": "1207f071",
        "outputId": "33ace45e-85f4-46c2-a793-9f6d84a8c720"
      },
      "outputs": [
        {
          "name": "stdout",
          "output_type": "stream",
          "text": [
            "F1 Score:\n",
            "HistGradient Boosting: 0.503573391973612\n",
            "XGBoost: 0.4950711938663746\n",
            "LightGBM: 0.49586776859504134\n",
            "CatBoost: 0.49292709466811746\n",
            "Ensemble: 0.5041551246537396\n"
          ]
        }
      ],
      "source": [
        "print('F1 Score:')\n",
        "print('HistGradient Boosting:', hgb_f1)\n",
        "print('XGBoost:', xgb_f1)\n",
        "print('LightGBM:', lgbm_f1)\n",
        "print('CatBoost:', cat_f1)\n",
        "print('Ensemble:', ensemble_f1)\n"
      ]
    },
    {
      "cell_type": "code",
      "execution_count": null,
      "id": "f4683992",
      "metadata": {
        "id": "f4683992"
      },
      "outputs": [],
      "source": []
    },
    {
      "cell_type": "markdown",
      "id": "1ee91023",
      "metadata": {
        "id": "1ee91023"
      },
      "source": [
        "Modeling with stratified sampling using partner_id"
      ]
    },
    {
      "cell_type": "code",
      "execution_count": null,
      "id": "871098eb",
      "metadata": {
        "id": "871098eb",
        "outputId": "683eab5e-30d3-458f-8b39-bd0610701c8c"
      },
      "outputs": [
        {
          "name": "stdout",
          "output_type": "stream",
          "text": [
            "['individual_id', 'quarter', 'year', 'Active Portfolio Indicator', 'CR NUM', 'Partner Region_CAF', 'Partner Region_CAT', 'Partner Region_CEA', 'Partner Region_CEU', 'Partner Region_CLA', 'Partner Region_CME', 'Partner Region_CSA', 'Partner Region_WLD', 'Partner Industry_INFRA', 'Partner Industry_MAS', 'NPL', 'Total Cash and Cash Equivalents_n', 'Total Liabilities_n', 'Retained Earnings_n', 'Total Equity_n', 'Net Revenues_n', 'Operating Profit_n', 'Interest Expense_n', 'Interest Income_n', 'Income Tax Expense_n', 'Net Income_n', 'Net Debt_n', 'Current Ratio_n', 'Net Worth to Total Assets_n', 'DSCR (TS)_n', 'Interest Coverage_n', 'ROAA_n', 'Asset Turnover_n', 'DEBT_CMTD_n', 'LOAN_OUTSTANDING_n', 'WC to Assets Ratio_n', 'RE to Assets Ratio_n', 'EBIT to Assets Ratio (annualized)_n', 'Equity to Liabilities Ratio_n', 'Rev_Total_Assest_n', 'NPL_DEBT_CMTD_n']\n"
          ]
        }
      ],
      "source": [
        "print(npl_c.columns.tolist())"
      ]
    },
    {
      "cell_type": "code",
      "execution_count": null,
      "id": "7d6c6812",
      "metadata": {
        "id": "7d6c6812"
      },
      "outputs": [],
      "source": [
        "npl_sp = npl_c.drop(columns=['Active Portfolio Indicator'])"
      ]
    },
    {
      "cell_type": "code",
      "execution_count": null,
      "id": "eebf8cec",
      "metadata": {
        "id": "eebf8cec"
      },
      "outputs": [],
      "source": [
        "from sklearn.model_selection import train_test_split\n",
        "\n",
        "# Extract the unique individual_ids from the data\n",
        "unique_ids = npl_sp['individual_id'].unique()\n",
        "\n",
        "# Separate the features (X) and target variable (y)\n",
        "X_sp = npl_sp.drop('NPL', axis=1)\n",
        "y_sp = npl_sp['NPL']\n",
        "\n",
        "# Filter the data based on the unique individual_ids\n",
        "X_sp_filtered = X_sp[X_sp['individual_id'].isin(unique_ids)]\n",
        "y_sp_filtered = y_sp[X_sp['individual_id'].isin(unique_ids)]\n",
        "\n",
        "# Split the filtered data into train and test sets using stratified sampling\n",
        "X_train_sp, X_test_sp, y_train_sp, y_test_sp = train_test_split(X_sp_filtered, y_sp_filtered, test_size=0.2, stratify=y_sp_filtered, random_state=42)\n"
      ]
    },
    {
      "cell_type": "code",
      "execution_count": null,
      "id": "b420ccd7",
      "metadata": {
        "id": "b420ccd7"
      },
      "outputs": [],
      "source": [
        "\"\"\"The above is useful for splitting the data into training and testing sets for a supervised machine learning\n",
        "task, while ensuring that the same individual does not appear in both sets and that the target variable is evenly\n",
        "distributed between the sets\"\"\""
      ]
    },
    {
      "cell_type": "code",
      "execution_count": null,
      "id": "2b6400ee",
      "metadata": {
        "id": "2b6400ee"
      },
      "outputs": [],
      "source": [
        "# Print the sizes of the train and test sets\n",
        "print(\"Train set size:\", len(y_sp))\n",
        "print(\"Test set size:\", len(X_sp))"
      ]
    },
    {
      "cell_type": "code",
      "execution_count": null,
      "id": "bdba96a0",
      "metadata": {
        "id": "bdba96a0"
      },
      "outputs": [],
      "source": [
        "# Print the sizes of the train and test sets\n",
        "print(\"Train set size:\", y_sp.shape)\n",
        "print(\"Test set size:\", X_sp.shape)"
      ]
    },
    {
      "cell_type": "code",
      "execution_count": null,
      "id": "d75d042a",
      "metadata": {
        "id": "d75d042a",
        "outputId": "2d174b41-ba01-4da0-db35-ee516ab57380"
      },
      "outputs": [
        {
          "name": "stdout",
          "output_type": "stream",
          "text": [
            "X_train shape: (47870, 39)\n",
            "X_test shape: (11968, 39)\n",
            "y_train shape: (47870,)\n",
            "y_test shape: (11968,)\n"
          ]
        }
      ],
      "source": [
        "# Print the shape of the train and test sets\n",
        "print('X_train shape:', X_train_sp.shape)\n",
        "print('X_test shape:', X_test_sp.shape)\n",
        "print('y_train shape:', y_train_sp.shape)\n",
        "print('y_test shape:', y_test_sp.shape)"
      ]
    },
    {
      "cell_type": "code",
      "execution_count": null,
      "id": "5cb143d8",
      "metadata": {
        "id": "5cb143d8"
      },
      "outputs": [],
      "source": [
        "from scipy import stats\n",
        "from sklearn.ensemble import HistGradientBoostingClassifier\n",
        "from sklearn.ensemble import VotingClassifier\n",
        "from sklearn.metrics import accuracy_score, f1_score, roc_auc_score\n",
        "from sklearn.preprocessing import StandardScaler\n",
        "from xgboost import XGBClassifier\n",
        "from lightgbm import LGBMClassifier\n",
        "from catboost import CatBoostClassifier\n",
        "import joblib"
      ]
    },
    {
      "cell_type": "code",
      "execution_count": null,
      "id": "c5ca67da",
      "metadata": {
        "id": "c5ca67da",
        "outputId": "71e14542-38f9-47f0-d033-622537d94a3a"
      },
      "outputs": [
        {
          "data": {
            "text/plain": [
              "['ensemble_model_sp.joblib']"
            ]
          },
          "execution_count": 46,
          "metadata": {},
          "output_type": "execute_result"
        }
      ],
      "source": [
        "# HistGradient Boosting model\n",
        "hgb_model_sp = HistGradientBoostingClassifier(max_iter=100, random_state=42)\n",
        "hgb_model_sp.fit(X_train_sp, y_train_sp)\n",
        "hgb_pred_sp = hgb_model_sp.predict(X_test_sp)\n",
        "joblib.dump(hgb_model_sp, 'hgb_model_sp.joblib')\n",
        "\n",
        "# XGBoost Classifier model\n",
        "xgb_model_sp = XGBClassifier(n_estimators=100, random_state=42)\n",
        "xgb_model_sp.fit(X_train_sp, y_train_sp)\n",
        "xgb_pred_sp = xgb_model_sp.predict(X_test_sp)\n",
        "joblib.dump(xgb_model_sp, 'xgb_model_sp.joblib')\n",
        "\n",
        "# LightGBM Classifier model\n",
        "lgbm_model_sp = LGBMClassifier(n_estimators=100, random_state=42)\n",
        "lgbm_model_sp.fit(X_train_sp, y_train_sp)\n",
        "lgbm_pred_sp = lgbm_model_sp.predict(X_test_sp)\n",
        "joblib.dump(lgbm_model_sp, 'lgbm_model_sp.joblib')\n",
        "\n",
        "# CatBoost Classifier model\n",
        "cat_model_sp = CatBoostClassifier(n_estimators=100, random_state=42, silent=True)\n",
        "cat_model_sp.fit(X_train_sp, y_train_sp)\n",
        "cat_pred_sp = cat_model_sp.predict(X_test_sp)\n",
        "joblib.dump(cat_model_sp, 'cat_model_sp.joblib')\n",
        "\n",
        "# Ensemble model\n",
        "ensemble_model_sp = VotingClassifier(estimators=[\n",
        "    ('hgb', hgb_model_sp), ('xgb', xgb_model_sp), ('lgbm', lgbm_model_sp), ('cat', cat_model_sp)], voting='soft')\n",
        "ensemble_model_sp.fit(X_train_sp, y_train_sp)\n",
        "ensemble_pred_sp = ensemble_model_sp.predict(X_test_sp)\n",
        "joblib.dump(ensemble_model_sp, 'ensemble_model_sp.joblib')\n"
      ]
    },
    {
      "cell_type": "code",
      "execution_count": null,
      "id": "50e0396c",
      "metadata": {
        "id": "50e0396c"
      },
      "outputs": [],
      "source": [
        "from sklearn.metrics import precision_recall_curve, roc_auc_score, matthews_corrcoef, balanced_accuracy_score, f1_score, auc\n",
        "from imblearn.metrics import geometric_mean_score\n",
        "import matplotlib.pyplot as plt"
      ]
    },
    {
      "cell_type": "code",
      "execution_count": null,
      "id": "ab8f4b56",
      "metadata": {
        "id": "ab8f4b56"
      },
      "outputs": [],
      "source": [
        "# Predict probabilities for positive class\n",
        "hgb_pred_proba_sp = hgb_model_sp.predict_proba(X_test_sp)[:, 1]\n",
        "xgb_pred_proba_sp = xgb_model_sp.predict_proba(X_test_sp)[:, 1]\n",
        "lgbm_pred_proba_sp = lgbm_model_sp.predict_proba(X_test_sp)[:, 1]\n",
        "cat_pred_proba_sp = cat_model_sp.predict_proba(X_test_sp)[:, 1]\n",
        "ensemble_pred_proba_sp = ensemble_model_sp.predict_proba(X_test_sp)[:, 1]\n",
        "\n",
        "# Calculate Precision-Recall curve\n",
        "precision, recall, _ = precision_recall_curve(y_test_sp, hgb_pred_proba_sp)\n",
        "hgb_pr_sp = auc(recall, precision)\n",
        "precision, recall, _ = precision_recall_curve(y_test_sp, xgb_pred_proba_sp)\n",
        "xgb_pr_sp = auc(recall, precision)\n",
        "precision, recall, _ = precision_recall_curve(y_test_sp, lgbm_pred_proba_sp)\n",
        "lgbm_pr_sp = auc(recall, precision)\n",
        "precision, recall, _ = precision_recall_curve(y_test_sp, cat_pred_proba_sp)\n",
        "cat_pr_sp = auc(recall, precision)\n",
        "precision, recall, _ = precision_recall_curve(y_test_sp, ensemble_pred_proba_sp)\n",
        "ensemble_pr_sp = auc(recall, precision)\n",
        "\n",
        "# Compute F1 score\n",
        "hgb_f1_sp = f1_score(y_test_sp, hgb_pred_sp)\n",
        "xgb_f1_sp = f1_score(y_test_sp, xgb_pred_sp)\n",
        "lgbm_f1_sp = f1_score(y_test_sp, lgbm_pred_sp)\n",
        "cat_f1_sp = f1_score(y_test_sp, cat_pred_sp)\n",
        "ensemble_f1_sp = f1_score(y_test_sp, ensemble_pred_sp)\n",
        "\n",
        "# Calculate Balanced Accuracy\n",
        "hgb_balanced_acc = balanced_accuracy_score(y_test_sp, hgb_pred_sp)\n",
        "xgb_balanced_acc = balanced_accuracy_score(y_test_sp, xgb_pred_sp)\n",
        "lgbm_balanced_acc = balanced_accuracy_score(y_test_sp, lgbm_pred_sp)\n",
        "cat_balanced_acc = balanced_accuracy_score(y_test_sp, cat_pred_sp)\n",
        "ensemble_balanced_acc = balanced_accuracy_score(y_test_sp, ensemble_pred_sp)"
      ]
    },
    {
      "cell_type": "code",
      "execution_count": null,
      "id": "b31edb73",
      "metadata": {
        "id": "b31edb73",
        "outputId": "1dd081fc-e7d8-4256-ee5c-b317311ea1cb"
      },
      "outputs": [
        {
          "data": {
            "image/png": "[encoded data removed]",
            "text/plain": [
              "<Figure size 640x480 with 1 Axes>"
            ]
          },
          "metadata": {},
          "output_type": "display_data"
        },
        {
          "data": {
            "image/png": "[encoded data removed]",
            "text/plain": [
              "<Figure size 640x480 with 1 Axes>"
            ]
          },
          "metadata": {},
          "output_type": "display_data"
        }
      ],
      "source": [
        "# Define the models\n",
        "models_sp = ['HistGradientBoost', 'XGBoost', 'LightGBM', 'CatBoost', 'Ensemble']\n",
        "\n",
        "# F1 scores\n",
        "f1_scores = [hgb_f1_sp, xgb_f1_sp, lgbm_f1_sp, cat_f1_sp, ensemble_f1_sp]\n",
        "plt.bar(models_sp, f1_scores)\n",
        "plt.xlabel('Models')\n",
        "plt.ylabel('F1 Score')\n",
        "plt.title('F1 Scores of Different Models')\n",
        "plt.xticks(rotation=10)  # Rotate the x-axis labels by 45 degrees\n",
        "plt.show()\n",
        "\n",
        "# Balanced accuracy scores\n",
        "balanced_acc_scores = [hgb_balanced_acc, xgb_balanced_acc, lgbm_balanced_acc, cat_balanced_acc, ensemble_balanced_acc]\n",
        "plt.bar(models_sp, balanced_acc_scores)\n",
        "plt.xlabel('Models')\n",
        "plt.ylabel('Balanced Accuracy')\n",
        "plt.title('Balanced Accuracy Scores of Different Models')\n",
        "plt.xticks(rotation=10)  # Rotate the x-axis labels by 45 degrees\n",
        "plt.show()"
      ]
    },
    {
      "cell_type": "code",
      "execution_count": null,
      "id": "77448dbe",
      "metadata": {
        "id": "77448dbe",
        "outputId": "96353795-dbf2-4de0-cb06-a9867846221d"
      },
      "outputs": [
        {
          "data": {
            "image/png": "[encoded data removed]",
            "text/plain": [
              "<Figure size 640x480 with 1 Axes>"
            ]
          },
          "metadata": {},
          "output_type": "display_data"
        }
      ],
      "source": [
        "# Calculate Precision-Recall curve\n",
        "precision, recall, _ = precision_recall_curve(y_test_sp, hgb_pred_proba_sp)\n",
        "hgb_pr_sp = auc(recall, precision)\n",
        "plt.plot(recall, precision, label='HistGradient Boosting (AUC = {:.2f})'.format(hgb_pr_sp))\n",
        "\n",
        "precision, recall, _ = precision_recall_curve(y_test_sp, xgb_pred_proba_sp)\n",
        "xgb_pr_sp = auc(recall, precision)\n",
        "plt.plot(recall, precision, label='XGBoost Classifier (AUC = {:.2f})'.format(xgb_pr_sp))\n",
        "\n",
        "precision, recall, _ = precision_recall_curve(y_test_sp, lgbm_pred_proba_sp)\n",
        "lgbm_pr_sp = auc(recall, precision)\n",
        "plt.plot(recall, precision, label='LightGBM Classifier (AUC = {:.2f})'.format(lgbm_pr_sp))\n",
        "\n",
        "precision, recall, _ = precision_recall_curve(y_test_sp, cat_pred_proba_sp)\n",
        "cat_pr_sp = auc(recall, precision)\n",
        "plt.plot(recall, precision, label='CatBoost Classifier (AUC = {:.2f})'.format(cat_pr_sp))\n",
        "\n",
        "precision, recall, _ = precision_recall_curve(y_test_sp, ensemble_pred_proba_sp)\n",
        "ensemble_pr_sp = auc(recall, precision)\n",
        "plt.plot(recall, precision, label='Ensemble (AUC = {:.2f})'.format(ensemble_pr_sp))\n",
        "\n",
        "plt.xlabel('Recall')\n",
        "plt.ylabel('Precision')\n",
        "plt.title('Precision-Recall Curve')\n",
        "plt.legend(loc='lower left')\n",
        "plt.show()\n"
      ]
    },
    {
      "cell_type": "code",
      "execution_count": null,
      "id": "50514f54",
      "metadata": {
        "id": "50514f54",
        "outputId": "c5687d23-2847-40c2-93ef-17baf309df94"
      },
      "outputs": [
        {
          "name": "stdout",
          "output_type": "stream",
          "text": [
            "HistGradient Boosting Model:\n",
            "Precision: 0.8535353535353535\n",
            "Recall: 0.7027027027027027\n",
            "\n",
            "XGBoost Classifier Model:\n",
            "Precision: 0.86\n",
            "Recall: 0.7151767151767152\n",
            "\n",
            "LightGBM Classifier Model:\n",
            "Precision: 0.850632911392405\n",
            "Recall: 0.6985446985446986\n",
            "\n",
            "CatBoost Classifier Model:\n",
            "Precision: 0.8516624040920716\n",
            "Recall: 0.6923076923076923\n",
            "\n",
            "Ensemble Model:\n",
            "Precision: 0.8608247422680413\n",
            "Recall: 0.6943866943866944\n"
          ]
        }
      ],
      "source": [
        "from sklearn.metrics import precision_score, recall_score\n",
        "\n",
        "# Calculate precision and recall for HistGradient Boosting model\n",
        "hgb_precision_sp = precision_score(y_test_sp, hgb_pred_sp)\n",
        "hgb_recall_sp = recall_score(y_test_sp, hgb_pred_sp)\n",
        "print(\"HistGradient Boosting Model:\")\n",
        "print(\"Precision:\", hgb_precision_sp)\n",
        "print(\"Recall:\", hgb_recall_sp)\n",
        "print()\n",
        "\n",
        "# Calculate precision and recall for XGBoost Classifier model\n",
        "xgb_precision_sp = precision_score(y_test_sp, xgb_pred_sp)\n",
        "xgb_recall_sp = recall_score(y_test_sp, xgb_pred_sp)\n",
        "print(\"XGBoost Classifier Model:\")\n",
        "print(\"Precision:\", xgb_precision_sp)\n",
        "print(\"Recall:\", xgb_recall_sp)\n",
        "print()\n",
        "\n",
        "# Calculate precision and recall for LightGBM Classifier model\n",
        "lgbm_precision_sp = precision_score(y_test_sp, lgbm_pred_sp)\n",
        "lgbm_recall_sp = recall_score(y_test_sp, lgbm_pred_sp)\n",
        "print(\"LightGBM Classifier Model:\")\n",
        "print(\"Precision:\", lgbm_precision_sp)\n",
        "print(\"Recall:\", lgbm_recall_sp)\n",
        "print()\n",
        "\n",
        "# Calculate precision and recall for CatBoost Classifier model\n",
        "cat_precision_sp = precision_score(y_test_sp, cat_pred_sp)\n",
        "cat_recall_sp = recall_score(y_test_sp, cat_pred_sp)\n",
        "print(\"CatBoost Classifier Model:\")\n",
        "print(\"Precision:\", cat_precision_sp)\n",
        "print(\"Recall:\", cat_recall_sp)\n",
        "print()\n",
        "\n",
        "# Calculate precision and recall for Ensemble model\n",
        "ensemble_precision_sp = precision_score(y_test_sp, ensemble_pred_sp)\n",
        "ensemble_recall_sp = recall_score(y_test_sp, ensemble_pred_sp)\n",
        "print(\"Ensemble Model:\")\n",
        "print(\"Precision:\", ensemble_precision_sp)\n",
        "print(\"Recall:\", ensemble_recall_sp)\n"
      ]
    },
    {
      "cell_type": "code",
      "execution_count": null,
      "id": "b04c8557",
      "metadata": {
        "id": "b04c8557",
        "outputId": "23454a12-ba64-4f97-b0ba-870090a76db5"
      },
      "outputs": [
        {
          "data": {
            "image/png": "[encoded data removed]",
            "text/plain": [
              "<Figure size 800x1000 with 2 Axes>"
            ]
          },
          "metadata": {},
          "output_type": "display_data"
        }
      ],
      "source": [
        "import matplotlib.pyplot as plt\n",
        "\n",
        "# Precision scores\n",
        "precision_scores = [hgb_precision_sp, xgb_precision_sp, lgbm_precision_sp, cat_precision_sp, ensemble_precision_sp]\n",
        "\n",
        "# Recall scores\n",
        "recall_scores = [hgb_recall_sp, xgb_recall_sp, lgbm_recall_sp, cat_recall_sp, ensemble_recall_sp]\n",
        "\n",
        "# Model names\n",
        "model_names = ['HistGradient Boosting', 'XGBoost Classifier', 'LightGBM Classifier', 'CatBoost Classifier', 'Ensemble']\n",
        "\n",
        "# Create subplots for precision and recall\n",
        "fig, ax = plt.subplots(2, 1, figsize=(8, 10))\n",
        "\n",
        "# Plot precision scores\n",
        "ax[0].bar(model_names, precision_scores)\n",
        "ax[0].set_ylabel('Precision')\n",
        "ax[0].set_title('Precision Scores')\n",
        "\n",
        "# Plot recall scores\n",
        "ax[1].bar(model_names, recall_scores)\n",
        "ax[1].set_ylabel('Recall')\n",
        "ax[1].set_title('Recall Scores')\n",
        "\n",
        "# Rotate x-axis labels\n",
        "plt.setp(ax[0].xaxis.get_majorticklabels(), rotation=10)\n",
        "plt.setp(ax[1].xaxis.get_majorticklabels(), rotation=10)\n",
        "\n",
        "# Adjust spacing between subplots\n",
        "plt.subplots_adjust(hspace=0.5)\n",
        "\n",
        "# Show the plot\n",
        "plt.show()\n"
      ]
    },
    {
      "cell_type": "code",
      "execution_count": null,
      "id": "f575cdbd",
      "metadata": {
        "id": "f575cdbd"
      },
      "outputs": [],
      "source": [
        "# Create a copy of the test data with predictions and actual values\n",
        "results_sp = X_test_sp.copy()\n",
        "results_sp['actual'] = y_test_sp\n",
        "results_sp['hgb_pred'] = hgb_pred_sp\n",
        "results_sp['lgbm_pred'] = lgbm_pred_sp\n",
        "results_sp['cat_pred'] = cat_pred_sp\n",
        "results_sp['ensemble_pred'] = ensemble_pred_sp"
      ]
    },
    {
      "cell_type": "code",
      "execution_count": null,
      "id": "62c5c0b3",
      "metadata": {
        "id": "62c5c0b3"
      },
      "outputs": [],
      "source": [
        "# Save the DataFrame to a CSV file\n",
        "results_cts.to_csv('final_pred_cts.csv', index=False)"
      ]
    },
    {
      "cell_type": "markdown",
      "id": "6c4ae361",
      "metadata": {
        "id": "6c4ae361"
      },
      "source": [
        "Cross-validation"
      ]
    },
    {
      "cell_type": "code",
      "execution_count": null,
      "id": "fa4de323",
      "metadata": {
        "id": "fa4de323",
        "outputId": "254aa760-7cd7-4058-e2e6-af59f4fe9c68"
      },
      "outputs": [
        {
          "name": "stdout",
          "output_type": "stream",
          "text": [
            "Fold 1:\n",
            "Training score: 0.9403 ± 0.0015\n",
            "Testing score: 0.8301 ± 0.0091\n",
            "\n",
            "Fold 2:\n",
            "Training score: 0.9361 ± 0.0015\n",
            "Testing score: 0.8419 ± 0.0091\n",
            "\n",
            "Fold 3:\n",
            "Training score: 0.9396 ± 0.0015\n",
            "Testing score: 0.8485 ± 0.0091\n",
            "\n",
            "Fold 4:\n",
            "Training score: 0.9376 ± 0.0015\n",
            "Testing score: 0.8520 ± 0.0091\n",
            "\n",
            "Fold 5:\n",
            "Training score: 0.9384 ± 0.0015\n",
            "Testing score: 0.8559 ± 0.0091\n",
            "\n",
            "Mean training score: 0.9384 ± 0.0015\n",
            "Mean testing score: 0.8457 ± 0.0091\n"
          ]
        }
      ],
      "source": [
        "from sklearn.model_selection import cross_validate\n",
        "from sklearn.model_selection import StratifiedKFold\n",
        "from sklearn.metrics import make_scorer, balanced_accuracy_score\n",
        "\n",
        "# Define the cross-validation strategy\n",
        "cv = StratifiedKFold(n_splits=5, shuffle=True, random_state=42)\n",
        "\n",
        "# Define the scoring metric\n",
        "scoring = {\n",
        "    'balanced_accuracy': make_scorer(balanced_accuracy_score)\n",
        "}\n",
        "\n",
        "# Perform cross-validation\n",
        "hgb_scores = cross_validate(hgb_model_sp, X_sp_filtered, y_sp_filtered, cv=cv, scoring=scoring, return_train_score=True)\n",
        "\n",
        "# Print the training and testing scores for each fold\n",
        "for i in range(5):\n",
        "    print(f'Fold {i+1}:')\n",
        "    print(f'Training score: {hgb_scores[\"train_balanced_accuracy\"][i]:.4f} ± {hgb_scores[\"train_balanced_accuracy\"].std():.4f}')\n",
        "    print(f'Testing score: {hgb_scores[\"test_balanced_accuracy\"][i]:.4f} ± {hgb_scores[\"test_balanced_accuracy\"].std():.4f}')\n",
        "    print('')\n",
        "\n",
        "# Print the mean training and testing scores across all folds\n",
        "print(f'Mean training score: {hgb_scores[\"train_balanced_accuracy\"].mean():.4f} ± {hgb_scores[\"train_balanced_accuracy\"].std():.4f}')\n",
        "print(f'Mean testing score: {hgb_scores[\"test_balanced_accuracy\"].mean():.4f} ± {hgb_scores[\"test_balanced_accuracy\"].std():.4f}')\n"
      ]
    },
    {
      "cell_type": "code",
      "execution_count": null,
      "id": "b9b217a2",
      "metadata": {
        "id": "b9b217a2",
        "outputId": "ecf77542-f485-42ec-da42-f98565247bcf"
      },
      "outputs": [
        {
          "name": "stdout",
          "output_type": "stream",
          "text": [
            "Fold 1:\n",
            "Training score: 0.9775 ± 0.0105\n",
            "Testing score: 0.8461 ± 0.0033\n",
            "\n",
            "Fold 2:\n",
            "Training score: 0.9772 ± 0.0105\n",
            "Testing score: 0.8500 ± 0.0033\n",
            "\n",
            "Fold 3:\n",
            "Training score: 0.9772 ± 0.0105\n",
            "Testing score: 0.8448 ± 0.0033\n",
            "\n",
            "Fold 4:\n",
            "Training score: 0.9820 ± 0.0105\n",
            "Testing score: 0.8468 ± 0.0033\n",
            "\n",
            "Fold 5:\n",
            "Training score: 0.9526 ± 0.0105\n",
            "Testing score: 0.8540 ± 0.0033\n",
            "\n",
            "Mean training score: 0.9733 ± 0.0105\n",
            "Mean testing score: 0.8484 ± 0.0033\n"
          ]
        }
      ],
      "source": [
        "# Define the scoring metric\n",
        "scoring = {\n",
        "    'balanced_accuracy': make_scorer(balanced_accuracy_score)\n",
        "}\n",
        "\n",
        "# Perform cross-validation\n",
        "xgb_scores = cross_validate(xgb_model_sp, X_sp_filtered, y_sp_filtered, cv=cv, scoring=scoring, return_train_score=True)\n",
        "\n",
        "# Print the training and testing scores for each fold\n",
        "for i in range(5):\n",
        "    print(f'Fold {i+1}:')\n",
        "    print(f'Training score: {xgb_scores[\"train_balanced_accuracy\"][i]:.4f} ± {xgb_scores[\"train_balanced_accuracy\"].std():.4f}')\n",
        "    print(f'Testing score: {xgb_scores[\"test_balanced_accuracy\"][i]:.4f} ± {xgb_scores[\"test_balanced_accuracy\"].std():.4f}')\n",
        "    print('')\n",
        "\n",
        "# Print the mean training and testing scores across all folds\n",
        "print(f'Mean training score: {xgb_scores[\"train_balanced_accuracy\"].mean():.4f} ± {xgb_scores[\"train_balanced_accuracy\"].std():.4f}')\n",
        "print(f'Mean testing score: {xgb_scores[\"test_balanced_accuracy\"].mean():.4f} ± {xgb_scores[\"test_balanced_accuracy\"].std():.4f}')\n"
      ]
    },
    {
      "cell_type": "code",
      "execution_count": null,
      "id": "713c479e",
      "metadata": {
        "id": "713c479e",
        "outputId": "488b1752-8b93-48a0-83f7-e59b0b5f3cdd"
      },
      "outputs": [
        {
          "name": "stdout",
          "output_type": "stream",
          "text": [
            "Fold 1:\n",
            "Training score: 0.9474 ± 0.0031\n",
            "Testing score: 0.8374 ± 0.0061\n",
            "\n",
            "Fold 2:\n",
            "Training score: 0.9448 ± 0.0031\n",
            "Testing score: 0.8449 ± 0.0061\n",
            "\n",
            "Fold 3:\n",
            "Training score: 0.9394 ± 0.0031\n",
            "Testing score: 0.8486 ± 0.0061\n",
            "\n",
            "Fold 4:\n",
            "Training score: 0.9418 ± 0.0031\n",
            "Testing score: 0.8542 ± 0.0061\n",
            "\n",
            "Fold 5:\n",
            "Training score: 0.9396 ± 0.0031\n",
            "Testing score: 0.8528 ± 0.0061\n",
            "\n",
            "Mean training score: 0.9426 ± 0.0031\n",
            "Mean testing score: 0.8476 ± 0.0061\n"
          ]
        }
      ],
      "source": [
        "# Define the scoring metric\n",
        "scoring = {\n",
        "    'balanced_accuracy': make_scorer(balanced_accuracy_score)\n",
        "}\n",
        "\n",
        "# Perform cross-validation\n",
        "lgbm_scores = cross_validate(lgbm_model_sp, X_sp_filtered, y_sp_filtered, cv=cv, scoring=scoring, return_train_score=True)\n",
        "\n",
        "# Print the training and testing scores for each fold\n",
        "for i in range(5):\n",
        "    print(f'Fold {i+1}:')\n",
        "    print(f'Training score: {lgbm_scores[\"train_balanced_accuracy\"][i]:.4f} ± {lgbm_scores[\"train_balanced_accuracy\"].std():.4f}')\n",
        "    print(f'Testing score: {lgbm_scores[\"test_balanced_accuracy\"][i]:.4f} ± {lgbm_scores[\"test_balanced_accuracy\"].std():.4f}')\n",
        "    print('')\n",
        "\n",
        "# Print the mean training and testing scores across all folds\n",
        "print(f'Mean training score: {lgbm_scores[\"train_balanced_accuracy\"].mean():.4f} ± {lgbm_scores[\"train_balanced_accuracy\"].std():.4f}')\n",
        "print(f'Mean testing score: {lgbm_scores[\"test_balanced_accuracy\"].mean():.4f} ± {lgbm_scores[\"test_balanced_accuracy\"].std():.4f}')\n"
      ]
    },
    {
      "cell_type": "code",
      "execution_count": null,
      "id": "cca74dea",
      "metadata": {
        "id": "cca74dea",
        "outputId": "5c35278a-4649-4f89-bf32-26beee191d94"
      },
      "outputs": [
        {
          "name": "stdout",
          "output_type": "stream",
          "text": [
            "Fold 1:\n",
            "Training score: 0.9245 ± 0.0022\n",
            "Testing score: 0.8434 ± 0.0032\n",
            "\n",
            "Fold 2:\n",
            "Training score: 0.9224 ± 0.0022\n",
            "Testing score: 0.8368 ± 0.0032\n",
            "\n",
            "Fold 3:\n",
            "Training score: 0.9249 ± 0.0022\n",
            "Testing score: 0.8433 ± 0.0032\n",
            "\n",
            "Fold 4:\n",
            "Training score: 0.9251 ± 0.0022\n",
            "Testing score: 0.8468 ± 0.0032\n",
            "\n",
            "Fold 5:\n",
            "Training score: 0.9291 ± 0.0022\n",
            "Testing score: 0.8434 ± 0.0032\n",
            "\n",
            "Mean training score: 0.9252 ± 0.0022\n",
            "Mean testing score: 0.8428 ± 0.0032\n"
          ]
        }
      ],
      "source": [
        "# Define the scoring metric\n",
        "scoring = {\n",
        "    'balanced_accuracy': make_scorer(balanced_accuracy_score)\n",
        "}\n",
        "\n",
        "# Perform cross-validation\n",
        "cat_scores = cross_validate(cat_model_sp, X_sp_filtered, y_sp_filtered, cv=cv, scoring=scoring, return_train_score=True)\n",
        "\n",
        "# Print the training and testing scores for each fold\n",
        "for i in range(5):\n",
        "    print(f'Fold {i+1}:')\n",
        "    print(f'Training score: {cat_scores[\"train_balanced_accuracy\"][i]:.4f} ± {cat_scores[\"train_balanced_accuracy\"].std():.4f}')\n",
        "    print(f'Testing score: {cat_scores[\"test_balanced_accuracy\"][i]:.4f} ± {cat_scores[\"test_balanced_accuracy\"].std():.4f}')\n",
        "    print('')\n",
        "\n",
        "# Print the mean training and testing scores across all folds\n",
        "print(f'Mean training score: {cat_scores[\"train_balanced_accuracy\"].mean():.4f} ± {cat_scores[\"train_balanced_accuracy\"].std():.4f}')\n",
        "print(f'Mean testing score: {cat_scores[\"test_balanced_accuracy\"].mean():.4f} ± {cat_scores[\"test_balanced_accuracy\"].std():.4f}')\n"
      ]
    },
    {
      "cell_type": "code",
      "execution_count": null,
      "id": "7fc20926",
      "metadata": {
        "id": "7fc20926",
        "outputId": "254c5a45-bcfb-4229-cee5-035f9eaefcef"
      },
      "outputs": [
        {
          "name": "stdout",
          "output_type": "stream",
          "text": [
            "Fold 1:\n",
            "Training score: 0.9501 ± 0.0032\n",
            "Testing score: 0.8428 ± 0.0040\n",
            "\n",
            "Fold 2:\n",
            "Training score: 0.9455 ± 0.0032\n",
            "Testing score: 0.8422 ± 0.0040\n",
            "\n",
            "Fold 3:\n",
            "Training score: 0.9463 ± 0.0032\n",
            "Testing score: 0.8477 ± 0.0040\n",
            "\n",
            "Fold 4:\n",
            "Training score: 0.9522 ± 0.0032\n",
            "Testing score: 0.8482 ± 0.0040\n",
            "\n",
            "Fold 5:\n",
            "Training score: 0.9432 ± 0.0032\n",
            "Testing score: 0.8532 ± 0.0040\n",
            "\n",
            "Mean training score: 0.9475 ± 0.0032\n",
            "Mean testing score: 0.8468 ± 0.0040\n"
          ]
        }
      ],
      "source": [
        "# Define the scoring metric\n",
        "scoring = {\n",
        "    'balanced_accuracy': make_scorer(balanced_accuracy_score)\n",
        "}\n",
        "\n",
        "# Perform cross-validation\n",
        "ensemble_scores = cross_validate(ensemble_model_sp, X_sp_filtered, y_sp_filtered, cv=cv, scoring=scoring, return_train_score=True)\n",
        "\n",
        "# Print the training and testing scores for each fold\n",
        "for i in range(5):\n",
        "    print(f'Fold {i+1}:')\n",
        "    print(f'Training score: {ensemble_scores[\"train_balanced_accuracy\"][i]:.4f} ± {ensemble_scores[\"train_balanced_accuracy\"].std():.4f}')\n",
        "    print(f'Testing score: {ensemble_scores[\"test_balanced_accuracy\"][i]:.4f} ± {ensemble_scores[\"test_balanced_accuracy\"].std():.4f}')\n",
        "    print('')\n",
        "\n",
        "# Print the mean training and testing scores across all folds\n",
        "print(f'Mean training score: {ensemble_scores[\"train_balanced_accuracy\"].mean():.4f} ± {ensemble_scores[\"train_balanced_accuracy\"].std():.4f}')\n",
        "print(f'Mean testing score: {ensemble_scores[\"test_balanced_accuracy\"].mean():.4f} ± {ensemble_scores[\"test_balanced_accuracy\"].std():.4f}')\n"
      ]
    },
    {
      "cell_type": "code",
      "execution_count": null,
      "id": "0354fa61",
      "metadata": {
        "id": "0354fa61"
      },
      "outputs": [],
      "source": []
    },
    {
      "cell_type": "markdown",
      "id": "1c5cfb84",
      "metadata": {
        "id": "1c5cfb84"
      },
      "source": [
        "Modeling with stratified sampling by financial statement (fs)"
      ]
    },
    {
      "cell_type": "code",
      "execution_count": null,
      "id": "dfdb8a9e",
      "metadata": {
        "id": "dfdb8a9e",
        "outputId": "9442368c-c6bd-4953-8337-c15f494bb3fa"
      },
      "outputs": [
        {
          "name": "stdout",
          "output_type": "stream",
          "text": [
            "['individual_id', 'quarter', 'year', 'Active Portfolio Indicator', 'CR NUM', 'Partner Region_CAF', 'Partner Region_CAT', 'Partner Region_CEA', 'Partner Region_CEU', 'Partner Region_CLA', 'Partner Region_CME', 'Partner Region_CSA', 'Partner Region_WLD', 'Partner Industry_INFRA', 'Partner Industry_MAS', 'NPL', 'Total Cash and Cash Equivalents_n', 'Total Liabilities_n', 'Retained Earnings_n', 'Total Equity_n', 'Net Revenues_n', 'Operating Profit_n', 'Interest Expense_n', 'Interest Income_n', 'Income Tax Expense_n', 'Net Income_n', 'Net Debt_n', 'Current Ratio_n', 'Net Worth to Total Assets_n', 'DSCR (TS)_n', 'Interest Coverage_n', 'ROAA_n', 'Asset Turnover_n', 'DEBT_CMTD_n', 'LOAN_OUTSTANDING_n', 'WC to Assets Ratio_n', 'RE to Assets Ratio_n', 'EBIT to Assets Ratio (annualized)_n', 'Equity to Liabilities Ratio_n', 'Rev_Total_Assest_n', 'NPL_DEBT_CMTD_n']\n"
          ]
        }
      ],
      "source": [
        "print(npl_c.columns.tolist())"
      ]
    },
    {
      "cell_type": "code",
      "execution_count": null,
      "id": "b096a6a0",
      "metadata": {
        "id": "b096a6a0"
      },
      "outputs": [],
      "source": [
        "npl_fs = npl_c.drop(columns=['Active Portfolio Indicator'])"
      ]
    },
    {
      "cell_type": "code",
      "execution_count": null,
      "id": "91994263",
      "metadata": {
        "id": "91994263"
      },
      "outputs": [],
      "source": [
        "# Separate the features (X) and target variable (y)\n",
        "X_fs = npl_fs.drop('NPL', axis=1)\n",
        "y_fs = npl_fs['NPL']\n",
        "\n",
        "# Split the data into train and test sets using stratified sampling\n",
        "X_train_fs, X_test_fs, y_train_fs, y_test_fs = train_test_split(X_fs, y_fs, test_size=0.2, stratify=y_fs, random_state=42)\n"
      ]
    },
    {
      "cell_type": "code",
      "execution_count": null,
      "id": "1e51b8c8",
      "metadata": {
        "id": "1e51b8c8"
      },
      "outputs": [],
      "source": [
        "# Print the sizes of the train and test sets\n",
        "print(\"Train set size:\", len(X_fs))\n",
        "print(\"Test set size:\", len(y_fs))"
      ]
    },
    {
      "cell_type": "code",
      "execution_count": null,
      "id": "535b6649",
      "metadata": {
        "id": "535b6649",
        "outputId": "31388d8e-ef41-43d2-9ec8-f2f55b7d1ebb"
      },
      "outputs": [
        {
          "name": "stdout",
          "output_type": "stream",
          "text": [
            "X_train shape: (47870, 39)\n",
            "X_test shape: (11968, 39)\n",
            "y_train shape: (47870,)\n",
            "y_test shape: (11968,)\n"
          ]
        }
      ],
      "source": [
        "# Print the shape of the train and test sets\n",
        "print('X_train shape:', X_train_fs.shape)\n",
        "print('X_test shape:', X_test_fs.shape)\n",
        "print('y_train shape:', y_train_fs.shape)\n",
        "print('y_test shape:', y_test_fs.shape)"
      ]
    },
    {
      "cell_type": "code",
      "execution_count": null,
      "id": "e6fbf4ef",
      "metadata": {
        "id": "e6fbf4ef",
        "outputId": "28aa22f5-6c02-4782-e26e-c0f94b888325"
      },
      "outputs": [
        {
          "data": {
            "text/plain": [
              "['ensemble_model_fs.joblib']"
            ]
          },
          "execution_count": 71,
          "metadata": {},
          "output_type": "execute_result"
        }
      ],
      "source": [
        "# HistGradient Boosting model\n",
        "hgb_model_fs = HistGradientBoostingClassifier(max_iter=100, random_state=42)\n",
        "hgb_model_fs.fit(X_train_fs, y_train_fs)\n",
        "hgb_pred_fs = hgb_model_fs.predict(X_test_fs)\n",
        "joblib.dump(hgb_model_fs, 'hgb_model_fs.joblib')\n",
        "\n",
        "# XGBoost Classifier model\n",
        "xgb_model_fs = XGBClassifier(n_estimators=100, random_state=42)\n",
        "xgb_model_fs.fit(X_train_fs, y_train_fs)\n",
        "xgb_pred_fs = xgb_model_fs.predict(X_test_fs)\n",
        "joblib.dump(xgb_model_fs, 'xgb_model_fs.joblib')\n",
        "\n",
        "# LightGBM Classifier model\n",
        "lgbm_model_fs = LGBMClassifier(n_estimators=100, random_state=42)\n",
        "lgbm_model_fs.fit(X_train_fs, y_train_fs)\n",
        "lgbm_pred_fs = lgbm_model_fs.predict(X_test_fs)\n",
        "joblib.dump(lgbm_model_fs, 'lgbm_model_fs.joblib')\n",
        "\n",
        "# CatBoost Classifier model\n",
        "cat_model_fs = CatBoostClassifier(n_estimators=100, random_state=42, silent=True)\n",
        "cat_model_fs.fit(X_train_fs, y_train_fs)\n",
        "cat_pred_fs = cat_model_fs.predict(X_test_fs)\n",
        "joblib.dump(cat_model_fs, 'cat_model_fs.joblib')\n",
        "\n",
        "# Ensemble model\n",
        "ensemble_model_fs = VotingClassifier(estimators=[\n",
        "    ('hgb', hgb_model_fs), ('xgb', xgb_model_fs), ('lgbm', lgbm_model_fs), ('cat', cat_model_fs)], voting='soft')\n",
        "ensemble_model_fs.fit(X_train_fs, y_train_fs)\n",
        "ensemble_pred_fs = ensemble_model_fs.predict(X_test_fs)\n",
        "joblib.dump(ensemble_model_fs, 'ensemble_model_fs.joblib')\n"
      ]
    },
    {
      "cell_type": "code",
      "execution_count": null,
      "id": "1a63abbc",
      "metadata": {
        "id": "1a63abbc"
      },
      "outputs": [],
      "source": [
        "# Predict probabilities for positive class\n",
        "hgb_pred_proba_fs = hgb_model_fs.predict_proba(X_test_fs)[:, 1]\n",
        "xgb_pred_proba_fs = xgb_model_fs.predict_proba(X_test_fs)[:, 1]\n",
        "lgbm_pred_proba_fs = lgbm_model_fs.predict_proba(X_test_fs)[:, 1]\n",
        "cat_pred_proba_fs = cat_model_fs.predict_proba(X_test_fs)[:, 1]\n",
        "ensemble_pred_proba_fs = ensemble_model_fs.predict_proba(X_test_fs)[:, 1]\n",
        "\n",
        "# Calculate Precision-Recall curve\n",
        "precision, recall, _ = precision_recall_curve(y_test_fs, hgb_pred_proba_fs)\n",
        "hgb_pr_fs = auc(recall, precision)\n",
        "precision, recall, _ = precision_recall_curve(y_test_fs, xgb_pred_proba_fs)\n",
        "xgb_pr_fs = auc(recall, precision)\n",
        "precision, recall, _ = precision_recall_curve(y_test_fs, lgbm_pred_proba_fs)\n",
        "lgbm_pr_fs = auc(recall, precision)\n",
        "precision, recall, _ = precision_recall_curve(y_test_fs, cat_pred_proba_fs)\n",
        "cat_pr_fs = auc(recall, precision)\n",
        "precision, recall, _ = precision_recall_curve(y_test_fs, ensemble_pred_proba_fs)\n",
        "ensemble_pr_fs = auc(recall, precision)\n",
        "\n",
        "# Compute F1 score\n",
        "hgb_f1_fs = f1_score(y_test_fs, hgb_pred_fs)\n",
        "xgb_f1_fs = f1_score(y_test_fs, xgb_pred_fs)\n",
        "lgbm_f1_fs = f1_score(y_test_fs, lgbm_pred_fs)\n",
        "cat_f1_fs = f1_score(y_test_fs, cat_pred_fs)\n",
        "ensemble_f1_fs = f1_score(y_test_fs, ensemble_pred_fs)\n",
        "\n",
        "# Calculate Balanced Accuracy\n",
        "hgb_balanced_fs = balanced_accuracy_score(y_test_fs, hgb_pred_fs)\n",
        "xgb_balanced_fs = balanced_accuracy_score(y_test_fs, xgb_pred_fs)\n",
        "lgbm_balanced_fs = balanced_accuracy_score(y_test_fs, lgbm_pred_fs)\n",
        "cat_balanced_fs = balanced_accuracy_score(y_test_fs, cat_pred_fs)\n",
        "ensemble_balanced_fs = balanced_accuracy_score(y_test_fs, ensemble_pred_fs)\n"
      ]
    },
    {
      "cell_type": "code",
      "execution_count": null,
      "id": "4e937236",
      "metadata": {
        "id": "4e937236",
        "outputId": "79a6da13-6af9-43e8-cdd5-3c7b0b75982a"
      },
      "outputs": [
        {
          "data": {
            "image/png": "[encoded data removed]",
            "text/plain": [
              "<Figure size 640x480 with 1 Axes>"
            ]
          },
          "metadata": {},
          "output_type": "display_data"
        },
        {
          "data": {
            "image/png": "[encoded data removed]",
            "text/plain": [
              "<Figure size 640x480 with 1 Axes>"
            ]
          },
          "metadata": {},
          "output_type": "display_data"
        }
      ],
      "source": [
        "# Define the models\n",
        "models_fs = ['HistGradientBoost', 'XGBoost', 'LightGBM', 'CatBoost', 'Ensemble']\n",
        "\n",
        "# F1 scores\n",
        "f1_scores = [hgb_f1_fs, xgb_f1_fs, lgbm_f1_fs, cat_f1_fs, ensemble_f1_fs]\n",
        "plt.bar(models_fs, f1_scores)\n",
        "plt.xlabel('Models')\n",
        "plt.ylabel('F1 Score')\n",
        "plt.title('F1 Scores of Different Models')\n",
        "plt.xticks(rotation=15)  # Rotate the x-axis labels by 45 degrees\n",
        "plt.show()\n",
        "\n",
        "# Balanced accuracy scores\n",
        "balanced_acc_scores = [hgb_balanced_fs, xgb_balanced_fs, lgbm_balanced_fs, cat_balanced_fs, ensemble_balanced_fs]\n",
        "plt.bar(models_fs, balanced_acc_scores)\n",
        "plt.xlabel('Models')\n",
        "plt.ylabel('Balanced Accuracy')\n",
        "plt.title('Balanced Accuracy Scores of Different Models')\n",
        "plt.xticks(rotation=15)  # Rotate the x-axis labels by 45 degrees\n",
        "plt.show()\n"
      ]
    },
    {
      "cell_type": "code",
      "execution_count": null,
      "id": "95053d71",
      "metadata": {
        "id": "95053d71",
        "outputId": "532d8c5b-0377-45a0-fc5c-b6e868279d4b"
      },
      "outputs": [
        {
          "data": {
            "image/png": "[encoded data removed]",
            "text/plain": [
              "<Figure size 640x480 with 1 Axes>"
            ]
          },
          "metadata": {},
          "output_type": "display_data"
        }
      ],
      "source": [
        "# Calculate Precision-Recall curve\n",
        "precision, recall, _ = precision_recall_curve(y_test_fs, hgb_pred_proba_fs)\n",
        "hgb_pr_fs = auc(recall, precision)\n",
        "plt.plot(recall, precision, label='HistGradient Boosting (AUC = {:.2f})'.format(hgb_pr_fs))\n",
        "\n",
        "precision, recall, _ = precision_recall_curve(y_test_fs, xgb_pred_proba_fs)\n",
        "xgb_pr_fs = auc(recall, precision)\n",
        "plt.plot(recall, precision, label='XGBoost Classifier (AUC = {:.2f})'.format(xgb_pr_fs))\n",
        "\n",
        "precision, recall, _ = precision_recall_curve(y_test_fs, lgbm_pred_proba_fs)\n",
        "lgbm_pr_fs = auc(recall, precision)\n",
        "plt.plot(recall, precision, label='LightGBM Classifier (AUC = {:.2f})'.format(lgbm_pr_fs))\n",
        "\n",
        "precision, recall, _ = precision_recall_curve(y_test_fs, cat_pred_proba_fs)\n",
        "cat_pr_fs = auc(recall, precision)\n",
        "plt.plot(recall, precision, label='CatBoost Classifier (AUC = {:.2f})'.format(cat_pr_fs))\n",
        "\n",
        "precision, recall, _ = precision_recall_curve(y_test_fs, ensemble_pred_proba_fs)\n",
        "ensemble_pr_fs = auc(recall, precision)\n",
        "plt.plot(recall, precision, label='Ensemble (AUC = {:.2f})'.format(ensemble_pr_fs))\n",
        "\n",
        "plt.xlabel('Recall')\n",
        "plt.ylabel('Precision')\n",
        "plt.title('Precision-Recall Curve')\n",
        "plt.legend(loc='lower left')\n",
        "plt.show()\n"
      ]
    },
    {
      "cell_type": "code",
      "execution_count": null,
      "id": "91c7d81b",
      "metadata": {
        "id": "91c7d81b",
        "outputId": "bda6f8db-b95f-41ca-8c08-63a603274002"
      },
      "outputs": [
        {
          "name": "stdout",
          "output_type": "stream",
          "text": [
            "HistGradient Boosting Model:\n",
            "Precision: 0.8535353535353535\n",
            "Recall: 0.7027027027027027\n",
            "\n",
            "XGBoost Classifier Model:\n",
            "Precision: 0.86\n",
            "Recall: 0.7151767151767152\n",
            "\n",
            "LightGBM Classifier Model:\n",
            "Precision: 0.850632911392405\n",
            "Recall: 0.6985446985446986\n",
            "\n",
            "CatBoost Classifier Model:\n",
            "Precision: 0.8516624040920716\n",
            "Recall: 0.6923076923076923\n",
            "\n",
            "Ensemble Model:\n",
            "Precision: 0.8608247422680413\n",
            "Recall: 0.6943866943866944\n"
          ]
        }
      ],
      "source": [
        "from sklearn.metrics import precision_score, recall_score\n",
        "\n",
        "# Calculate precision and recall for HistGradient Boosting model\n",
        "hgb_precision_fs = precision_score(y_test_fs, hgb_pred_fs)\n",
        "hgb_recall_fs = recall_score(y_test_fs, hgb_pred_fs)\n",
        "print(\"HistGradient Boosting Model:\")\n",
        "print(\"Precision:\", hgb_precision_fs)\n",
        "print(\"Recall:\", hgb_recall_fs)\n",
        "print()\n",
        "\n",
        "# Calculate precision and recall for XGBoost Classifier model\n",
        "xgb_precision_fs = precision_score(y_test_fs, xgb_pred_fs)\n",
        "xgb_recall_fs = recall_score(y_test_fs, xgb_pred_fs)\n",
        "print(\"XGBoost Classifier Model:\")\n",
        "print(\"Precision:\", xgb_precision_fs)\n",
        "print(\"Recall:\", xgb_recall_fs)\n",
        "print()\n",
        "\n",
        "# Calculate precision and recall for LightGBM Classifier model\n",
        "lgbm_precision_fs = precision_score(y_test_fs, lgbm_pred_fs)\n",
        "lgbm_recall_fs = recall_score(y_test_fs, lgbm_pred_fs)\n",
        "print(\"LightGBM Classifier Model:\")\n",
        "print(\"Precision:\", lgbm_precision_fs)\n",
        "print(\"Recall:\", lgbm_recall_fs)\n",
        "print()\n",
        "\n",
        "# Calculate precision and recall for CatBoost Classifier model\n",
        "cat_precision_fs = precision_score(y_test_fs, cat_pred_fs)\n",
        "cat_recall_fs = recall_score(y_test_fs, cat_pred_fs)\n",
        "print(\"CatBoost Classifier Model:\")\n",
        "print(\"Precision:\", cat_precision_fs)\n",
        "print(\"Recall:\", cat_recall_fs)\n",
        "print()\n",
        "\n",
        "# Calculate precision and recall for Ensemble model\n",
        "ensemble_precision_fs = precision_score(y_test_fs, ensemble_pred_fs)\n",
        "ensemble_recall_fs = recall_score(y_test_fs, ensemble_pred_fs)\n",
        "print(\"Ensemble Model:\")\n",
        "print(\"Precision:\", ensemble_precision_fs)\n",
        "print(\"Recall:\", ensemble_recall_fs)\n"
      ]
    },
    {
      "cell_type": "code",
      "execution_count": null,
      "id": "9fe274d5",
      "metadata": {
        "id": "9fe274d5",
        "outputId": "c9f2cf4b-adce-4fe7-c524-120990a5b265"
      },
      "outputs": [
        {
          "data": {
            "image/png": "[encoded data removed]",
            "text/plain": [
              "<Figure size 800x1000 with 2 Axes>"
            ]
          },
          "metadata": {},
          "output_type": "display_data"
        }
      ],
      "source": [
        "import matplotlib.pyplot as plt\n",
        "\n",
        "# Precision scores\n",
        "precision_scores = [hgb_precision_fs, xgb_precision_fs, lgbm_precision_fs, cat_precision_fs, ensemble_precision_fs]\n",
        "\n",
        "# Recall scores\n",
        "recall_scores = [hgb_recall_fs, xgb_recall_fs, lgbm_recall_fs, cat_recall_fs, ensemble_recall_fs]\n",
        "\n",
        "# Model names\n",
        "model_names = ['HistGradient Boosting', 'XGBoost Classifier', 'LightGBM Classifier', 'CatBoost Classifier', 'Ensemble']\n",
        "\n",
        "# Create subplots for precision and recall\n",
        "fig, ax = plt.subplots(2, 1, figsize=(8, 10))\n",
        "\n",
        "# Plot precision scores\n",
        "ax[0].bar(model_names, precision_scores)\n",
        "ax[0].set_ylabel('Precision')\n",
        "ax[0].set_title('Precision Scores')\n",
        "\n",
        "# Plot recall scores\n",
        "ax[1].bar(model_names, recall_scores)\n",
        "ax[1].set_ylabel('Recall')\n",
        "ax[1].set_title('Recall Scores')\n",
        "\n",
        "# Rotate x-axis labels\n",
        "plt.setp(ax[0].xaxis.get_majorticklabels(), rotation=10)\n",
        "plt.setp(ax[1].xaxis.get_majorticklabels(), rotation=10)\n",
        "\n",
        "# Adjust spacing between subplots\n",
        "plt.subplots_adjust(hspace=0.5)\n",
        "\n",
        "# Show the plot\n",
        "plt.show()\n"
      ]
    },
    {
      "cell_type": "code",
      "execution_count": null,
      "id": "52cd1bb0",
      "metadata": {
        "id": "52cd1bb0"
      },
      "outputs": [],
      "source": [
        "# Create a copy of the test data with predictions and actual values\n",
        "results_fs = X_test_fs.copy()\n",
        "results_fs['actual'] = y_test_fs\n",
        "results_fs['hgb_pred'] = hgb_pred_fs\n",
        "results_fs['lgbm_pred'] = lgbm_pred_fs\n",
        "results_fs['cat_pred'] = cat_pred_fs\n",
        "results_fs['ensemble_pred'] = ensemble_pred_fs\n"
      ]
    },
    {
      "cell_type": "code",
      "execution_count": null,
      "id": "367b7178",
      "metadata": {
        "id": "367b7178"
      },
      "outputs": [],
      "source": [
        "# Save the DataFrame to a CSV file\n",
        "results_cts.to_csv('final_pred_cts.csv', index=False)"
      ]
    },
    {
      "cell_type": "code",
      "execution_count": null,
      "id": "62aeba5e",
      "metadata": {
        "id": "62aeba5e"
      },
      "outputs": [],
      "source": []
    },
    {
      "cell_type": "markdown",
      "id": "f3460b72",
      "metadata": {
        "id": "f3460b72"
      },
      "source": [
        "Forecasting future ratios for active client, starting with analysis"
      ]
    },
    {
      "cell_type": "code",
      "execution_count": null,
      "id": "05f4cb4a",
      "metadata": {
        "id": "05f4cb4a",
        "outputId": "8754473e-dfe3-414b-a4ac-c6f9b88a73b4"
      },
      "outputs": [
        {
          "name": "stdout",
          "output_type": "stream",
          "text": [
            "['individual_id', 'quarter', 'year', 'Active Portfolio Indicator', 'Statement Months', 'CR NUM', 'Partner Region_CAF', 'Partner Region_CAT', 'Partner Region_CEA', 'Partner Region_CEU', 'Partner Region_CLA', 'Partner Region_CME', 'Partner Region_CSA', 'Partner Region_WLD', 'Partner Industry_INFRA', 'Partner Industry_MAS', 'NPL', 'Total Cash and Cash Equivalents_n', 'Total Liabilities_n', 'Retained Earnings_n', 'Total Equity_n', 'Net Revenues_n', 'Operating Profit_n', 'Interest Expense_n', 'Interest Income_n', 'Income Tax Expense_n', 'Net Income_n', 'Net Debt_n', 'Current Ratio_n', 'Net Worth to Total Assets_n', 'DSCR (TS)_n', 'Interest Coverage_n', 'ROAA_n', 'Asset Turnover_n', 'DEBT_CMTD_n', 'LOAN_OUTSTANDING_n', 'WC to Assets Ratio_n', 'RE to Assets Ratio_n', 'EBIT to Assets Ratio (annualized)_n', 'Equity to Liabilities Ratio_n', 'Rev_Total_Assest_n', 'NPL_DEBT_CMTD_n']\n"
          ]
        }
      ],
      "source": [
        "print(npl_c.columns.tolist())"
      ]
    },
    {
      "cell_type": "code",
      "execution_count": null,
      "id": "2942bbd2",
      "metadata": {
        "id": "2942bbd2",
        "outputId": "6822a753-b3d0-44a1-b0d9-0fb33beb7037"
      },
      "outputs": [
        {
          "name": "stdout",
          "output_type": "stream",
          "text": [
            "Total unique values in 'individual_id' column: 4816\n"
          ]
        }
      ],
      "source": [
        "# Assuming the column name is \"individual_id\" in the \"test\" dataframe\n",
        "unique_npl_c = npl_c[\"individual_id\"].nunique()\n",
        "\n",
        "print(\"Total unique values in 'individual_id' column:\", unique_npl_c)"
      ]
    },
    {
      "cell_type": "code",
      "execution_count": null,
      "id": "83ecf1fd",
      "metadata": {
        "id": "83ecf1fd"
      },
      "outputs": [],
      "source": [
        "#test & train data,\n",
        "test = npl_c.loc[npl_c[\"Active Portfolio Indicator\"] == \"Y\"]\n",
        "train = npl_c.loc[npl_c[\"Active Portfolio Indicator\"] == \"N\"]"
      ]
    },
    {
      "cell_type": "code",
      "execution_count": null,
      "id": "b692cc8d",
      "metadata": {
        "id": "b692cc8d"
      },
      "outputs": [],
      "source": [
        "train = train.drop(columns=[\"Active Portfolio Indicator\"])\n",
        "test = test.drop(columns=[\"Active Portfolio Indicator\"])"
      ]
    },
    {
      "cell_type": "code",
      "execution_count": null,
      "id": "ed4297c3",
      "metadata": {
        "id": "ed4297c3",
        "outputId": "8d2ebb21-08d1-4d5b-9fcb-6ca27fd7c18f"
      },
      "outputs": [
        {
          "name": "stdout",
          "output_type": "stream",
          "text": [
            "(15202, 41)\n",
            "(44636, 41)\n"
          ]
        }
      ],
      "source": [
        "print(test.shape)\n",
        "print(train.shape)"
      ]
    },
    {
      "cell_type": "code",
      "execution_count": null,
      "id": "7f260578",
      "metadata": {
        "id": "7f260578",
        "outputId": "7ba449bf-e04b-4c71-8873-99ac360e0d46"
      },
      "outputs": [
        {
          "name": "stdout",
          "output_type": "stream",
          "text": [
            "Total unique values in 'individual_id' column: 751\n"
          ]
        }
      ],
      "source": [
        "# Assuming the column name is \"individual_id\" in the \"test\" dataframe\n",
        "unique_values = test[\"individual_id\"].nunique()\n",
        "print(\"Total unique values in 'individual_id' column:\", unique_values)"
      ]
    },
    {
      "cell_type": "code",
      "execution_count": null,
      "id": "d1dd9f1d",
      "metadata": {
        "id": "d1dd9f1d",
        "outputId": "b5591415-e390-435f-c8e7-25f72cdd8061"
      },
      "outputs": [
        {
          "name": "stdout",
          "output_type": "stream",
          "text": [
            "Total number of rows with value 12 in 'statement' column: 8497\n"
          ]
        }
      ],
      "source": [
        "# Assuming the column name is \"statement\" in the \"test\" dataframe\n",
        "count = len(test[test[\"Statement Months\"] == 12])\n",
        "print(\"Total number of rows with value 12 in 'statement' column:\", count)"
      ]
    },
    {
      "cell_type": "code",
      "execution_count": null,
      "id": "97d7722d",
      "metadata": {
        "id": "97d7722d",
        "outputId": "200346c0-cea2-4982-c405-ac3ac69a5110"
      },
      "outputs": [
        {
          "name": "stdout",
          "output_type": "stream",
          "text": [
            "Total number of rows with value 9 in 'statement' column: 2007\n"
          ]
        }
      ],
      "source": [
        "# Assuming the column name is \"statement\" in the \"test\" dataframe\n",
        "count = len(test[test[\"Statement Months\"] == 9])\n",
        "print(\"Total number of rows with value 9 in 'statement' column:\", count)"
      ]
    },
    {
      "cell_type": "code",
      "execution_count": null,
      "id": "faa23e0c",
      "metadata": {
        "id": "faa23e0c",
        "outputId": "bafdc066-b96a-4de7-ccb5-1c899a64aa81"
      },
      "outputs": [
        {
          "name": "stdout",
          "output_type": "stream",
          "text": [
            "Total number of rows with value 6 in 'statement' column: 2298\n"
          ]
        }
      ],
      "source": [
        "# Assuming the column name is \"statement\" in the \"test\" dataframe\n",
        "count = len(test[test[\"Statement Months\"] == 6])\n",
        "print(\"Total number of rows with value 6 in 'statement' column:\", count)"
      ]
    },
    {
      "cell_type": "code",
      "execution_count": null,
      "id": "d48c19b2",
      "metadata": {
        "id": "d48c19b2",
        "outputId": "9aa4334a-5f42-4166-c6b0-bc19b39b3227"
      },
      "outputs": [
        {
          "name": "stdout",
          "output_type": "stream",
          "text": [
            "Total number of rows with value 3 in 'statement' column: 2185\n"
          ]
        }
      ],
      "source": [
        "# Assuming the column name is \"statement\" in the \"test\" dataframe\n",
        "count = len(test[test[\"Statement Months\"] == 3])\n",
        "print(\"Total number of rows with value 3 in 'statement' column:\", count)"
      ]
    },
    {
      "cell_type": "code",
      "execution_count": null,
      "id": "c7957330",
      "metadata": {
        "id": "c7957330",
        "outputId": "28be1404-3610-41cf-e481-b4ef0673b88b"
      },
      "outputs": [
        {
          "name": "stdout",
          "output_type": "stream",
          "text": [
            "Total number of rows with NPL: 714\n"
          ]
        }
      ],
      "source": [
        "# Assuming the column name is \"statement\" in the \"test\" dataframe\n",
        "count = len(test[test[\"NPL\"] == 1])\n",
        "print(\"Total number of rows with NPL:\", count)"
      ]
    },
    {
      "cell_type": "code",
      "execution_count": null,
      "id": "19724f1e",
      "metadata": {
        "id": "19724f1e"
      },
      "outputs": [],
      "source": [
        "# Save the DataFrame to a CSV file\n",
        "test.to_csv('test_Y_cts.csv', index=False)"
      ]
    },
    {
      "cell_type": "code",
      "execution_count": null,
      "id": "56ccfee2",
      "metadata": {
        "id": "56ccfee2"
      },
      "outputs": [],
      "source": []
    },
    {
      "cell_type": "code",
      "execution_count": null,
      "id": "d29b91fb",
      "metadata": {
        "id": "d29b91fb",
        "outputId": "c0ffd21d-536d-47f1-b873-35fbd19cb743"
      },
      "outputs": [
        {
          "name": "stdout",
          "output_type": "stream",
          "text": [
            "['individual_id', 'quarter', 'year', 'Statement Months', 'CR NUM', 'Partner Region_CAF', 'Partner Region_CAT', 'Partner Region_CEA', 'Partner Region_CEU', 'Partner Region_CLA', 'Partner Region_CME', 'Partner Region_CSA', 'Partner Region_WLD', 'Partner Industry_INFRA', 'Partner Industry_MAS', 'NPL', 'Total Cash and Cash Equivalents_n', 'Total Liabilities_n', 'Retained Earnings_n', 'Total Equity_n', 'Net Revenues_n', 'Operating Profit_n', 'Interest Expense_n', 'Interest Income_n', 'Income Tax Expense_n', 'Net Income_n', 'Net Debt_n', 'Current Ratio_n', 'Net Worth to Total Assets_n', 'DSCR (TS)_n', 'Interest Coverage_n', 'ROAA_n', 'Asset Turnover_n', 'DEBT_CMTD_n', 'LOAN_OUTSTANDING_n', 'WC to Assets Ratio_n', 'RE to Assets Ratio_n', 'EBIT to Assets Ratio (annualized)_n', 'Equity to Liabilities Ratio_n', 'Rev_Total_Assest_n', 'NPL_DEBT_CMTD_n']\n"
          ]
        }
      ],
      "source": [
        "print(test.columns.tolist())"
      ]
    },
    {
      "cell_type": "code",
      "execution_count": null,
      "id": "fc631518",
      "metadata": {
        "id": "fc631518"
      },
      "outputs": [],
      "source": [
        "test_set = test[test['Statement Months'] == 12]"
      ]
    },
    {
      "cell_type": "code",
      "execution_count": null,
      "id": "d205ac14",
      "metadata": {
        "id": "d205ac14",
        "outputId": "2bda988a-25c3-4ec9-f772-e70ac54635e9"
      },
      "outputs": [
        {
          "name": "stdout",
          "output_type": "stream",
          "text": [
            "(8497, 41)\n"
          ]
        }
      ],
      "source": [
        "print(test_set.shape)"
      ]
    },
    {
      "cell_type": "code",
      "execution_count": null,
      "id": "6c86f400",
      "metadata": {
        "id": "6c86f400"
      },
      "outputs": [],
      "source": [
        "# Save the DataFrame to a CSV file\n",
        "test_set.to_csv('test_set.csv', index=False)"
      ]
    },
    {
      "cell_type": "code",
      "execution_count": null,
      "id": "2601c013",
      "metadata": {
        "id": "2601c013",
        "outputId": "80e97c12-7688-48c6-8897-f701e24a3b97"
      },
      "outputs": [
        {
          "name": "stdout",
          "output_type": "stream",
          "text": [
            "Total number of rows with NPL: 425\n"
          ]
        }
      ],
      "source": [
        "# Assuming the column name is \"statement\" in the \"test\" dataframe\n",
        "count = len(test_set[test_set[\"NPL\"] == 1])\n",
        "print(\"Total number of rows with NPL:\", count)"
      ]
    },
    {
      "cell_type": "code",
      "execution_count": null,
      "id": "e744bb53",
      "metadata": {
        "id": "e744bb53",
        "outputId": "d26064a4-0ee0-4ade-c935-07da35143de1"
      },
      "outputs": [
        {
          "name": "stdout",
          "output_type": "stream",
          "text": [
            "Total number of rows with 0 exposue: 0\n"
          ]
        }
      ],
      "source": [
        " # Assuming the column name is \"statement\" in the \"test\" dataframe\n",
        "count = len(test_set[test_set[\"DEBT_CMTD_n\"] == 0])\n",
        "print(\"Total number of rows with 0 exposue:\", count)"
      ]
    },
    {
      "cell_type": "code",
      "execution_count": null,
      "id": "83706d7b",
      "metadata": {
        "id": "83706d7b",
        "outputId": "78a974a1-ee39-4b10-a2d5-11bd1d490b98"
      },
      "outputs": [
        {
          "name": "stdout",
          "output_type": "stream",
          "text": [
            "Total number of rows with a value other than zero: 8497\n"
          ]
        }
      ],
      "source": [
        "# Assuming the column name is \"DEBT_CMTD\" in the \"test_set\" dataframe\n",
        "count = (test_set[\"DEBT_CMTD_n\"] != 0).sum()\n",
        "print(\"Total number of rows with a value other than zero:\", count)"
      ]
    },
    {
      "cell_type": "code",
      "execution_count": null,
      "id": "1eb5dec3",
      "metadata": {
        "id": "1eb5dec3"
      },
      "outputs": [],
      "source": [
        "test_set = test_set[test_set['DEBT_CMTD_n'] != 0]"
      ]
    },
    {
      "cell_type": "code",
      "execution_count": null,
      "id": "eb31642d",
      "metadata": {
        "id": "eb31642d",
        "outputId": "6c3c2785-54a4-4402-ad5a-c2e8fa94ff20"
      },
      "outputs": [
        {
          "name": "stdout",
          "output_type": "stream",
          "text": [
            "(8497, 41)\n"
          ]
        }
      ],
      "source": [
        "print(test_set.shape)"
      ]
    },
    {
      "cell_type": "code",
      "execution_count": null,
      "id": "e37303b1",
      "metadata": {
        "id": "e37303b1"
      },
      "outputs": [],
      "source": [
        "test_set = test_set[test_set['year'] >= 2010]"
      ]
    },
    {
      "cell_type": "code",
      "execution_count": null,
      "id": "c16d3e4e",
      "metadata": {
        "id": "c16d3e4e",
        "outputId": "41d531b3-1a20-4bc5-dc88-031ceed75f81"
      },
      "outputs": [
        {
          "name": "stdout",
          "output_type": "stream",
          "text": [
            "(8497, 41)\n"
          ]
        }
      ],
      "source": [
        "print(test_set.shape)"
      ]
    },
    {
      "cell_type": "code",
      "execution_count": null,
      "id": "ec1897ef",
      "metadata": {
        "id": "ec1897ef",
        "outputId": "12f61cd4-bb34-4ef7-b003-7f413d9ea230"
      },
      "outputs": [
        {
          "data": {
            "text/plain": [
              "individual_id                             0\n",
              "quarter                                   0\n",
              "year                                      0\n",
              "Statement Months                          0\n",
              "CR NUM                                 1121\n",
              "Partner Region_CAF                        0\n",
              "Partner Region_CAT                        0\n",
              "Partner Region_CEA                        0\n",
              "Partner Region_CEU                        0\n",
              "Partner Region_CLA                        0\n",
              "Partner Region_CME                        0\n",
              "Partner Region_CSA                        0\n",
              "Partner Region_WLD                        0\n",
              "Partner Industry_INFRA                    0\n",
              "Partner Industry_MAS                      0\n",
              "NPL                                       0\n",
              "Total Cash and Cash Equivalents_n       516\n",
              "Total Liabilities_n                     497\n",
              "Retained Earnings_n                     835\n",
              "Total Equity_n                           33\n",
              "Net Revenues_n                          568\n",
              "Operating Profit_n                       41\n",
              "Interest Expense_n                      299\n",
              "Interest Income_n                      1864\n",
              "Income Tax Expense_n                   1402\n",
              "Net Income_n                            505\n",
              "Net Debt_n                              500\n",
              "Current Ratio_n                         540\n",
              "Net Worth to Total Assets_n             517\n",
              "DSCR (TS)_n                            1334\n",
              "Interest Coverage_n                    1461\n",
              "ROAA_n                                  521\n",
              "Asset Turnover_n                        596\n",
              "DEBT_CMTD_n                            2833\n",
              "LOAN_OUTSTANDING_n                     2833\n",
              "WC to Assets Ratio_n                     53\n",
              "RE to Assets Ratio_n                     53\n",
              "EBIT to Assets Ratio (annualized)_n      53\n",
              "Equity to Liabilities Ratio_n           646\n",
              "Rev_Total_Assest_n                       53\n",
              "NPL_DEBT_CMTD_n                        4131\n",
              "dtype: int64"
            ]
          },
          "execution_count": 134,
          "metadata": {},
          "output_type": "execute_result"
        }
      ],
      "source": [
        "test_set.isnull().sum()"
      ]
    },
    {
      "cell_type": "code",
      "execution_count": null,
      "id": "028dde52",
      "metadata": {
        "id": "028dde52"
      },
      "outputs": [],
      "source": [
        "# Assuming the panel data is stored in a DataFrame called 'test_c'\n",
        "columns_to_fill = ['Current Ratio_n', 'DSCR (TS)_n', 'ROAA_n', 'Asset Turnover_n',\n",
        "                   'DEBT_CMTD_n', 'LOAN_OUTSTANDING_n', 'CR NUM', 'WC to Assets Ratio_n', 'RE to Assets Ratio_n',\n",
        "                   'EBIT to Assets Ratio (annualized)_n', 'Equity to Liabilities Ratio_n', 'Rev_Total_Assest_n',\n",
        "                   'NPL_DEBT_CMTD_n', 'Total Cash and Cash Equivalents_n', 'Total Liabilities_n',\n",
        "                   'Retained Earnings_n', 'Total Equity_n', 'Net Revenues_n', 'Operating Profit_n',\n",
        "                   'Interest Expense_n', 'Income Tax Expense_n', 'Interest Income_n', 'Net Worth to Total Assets_n',\n",
        "                   'Net Debt_n', 'Interest Coverage_n', 'Net Income_n']\n",
        "\n",
        "# Sort the panel data by individual_id, year, and quarter\n",
        "test_set = test_set.sort_values(['individual_id', 'year', 'quarter'])\n",
        "\n",
        "# Fill missing values with forward fill within each individual_id\n",
        "filled_test = test_set.copy()\n",
        "filled_test[columns_to_fill] = filled_test.groupby('individual_id')[columns_to_fill].ffill()"
      ]
    },
    {
      "cell_type": "code",
      "execution_count": null,
      "id": "8e1a8900",
      "metadata": {
        "id": "8e1a8900",
        "outputId": "23665149-404c-4e7e-c29f-913d0ad378b0"
      },
      "outputs": [
        {
          "data": {
            "text/plain": [
              "individual_id                             0\n",
              "quarter                                   0\n",
              "year                                      0\n",
              "Statement Months                          0\n",
              "CR NUM                                 1121\n",
              "Partner Region_CAF                        0\n",
              "Partner Region_CAT                        0\n",
              "Partner Region_CEA                        0\n",
              "Partner Region_CEU                        0\n",
              "Partner Region_CLA                        0\n",
              "Partner Region_CME                        0\n",
              "Partner Region_CSA                        0\n",
              "Partner Region_WLD                        0\n",
              "Partner Industry_INFRA                    0\n",
              "Partner Industry_MAS                      0\n",
              "NPL                                       0\n",
              "Total Cash and Cash Equivalents_n        79\n",
              "Total Liabilities_n                      74\n",
              "Retained Earnings_n                     141\n",
              "Total Equity_n                           12\n",
              "Net Revenues_n                          115\n",
              "Operating Profit_n                       21\n",
              "Interest Expense_n                      162\n",
              "Interest Income_n                       687\n",
              "Income Tax Expense_n                    382\n",
              "Net Income_n                             82\n",
              "Net Debt_n                               77\n",
              "Current Ratio_n                         105\n",
              "Net Worth to Total Assets_n              90\n",
              "DSCR (TS)_n                             752\n",
              "Interest Coverage_n                     868\n",
              "ROAA_n                                   99\n",
              "Asset Turnover_n                        135\n",
              "DEBT_CMTD_n                            2831\n",
              "LOAN_OUTSTANDING_n                     2831\n",
              "WC to Assets Ratio_n                     27\n",
              "RE to Assets Ratio_n                     27\n",
              "EBIT to Assets Ratio (annualized)_n      27\n",
              "Equity to Liabilities Ratio_n           114\n",
              "Rev_Total_Assest_n                       27\n",
              "NPL_DEBT_CMTD_n                        2226\n",
              "dtype: int64"
            ]
          },
          "execution_count": 137,
          "metadata": {},
          "output_type": "execute_result"
        }
      ],
      "source": [
        "filled_test.isnull().sum()"
      ]
    },
    {
      "cell_type": "code",
      "execution_count": null,
      "id": "ef7e240f",
      "metadata": {
        "id": "ef7e240f"
      },
      "outputs": [],
      "source": [
        "# Utilizing backward fill as well\n",
        "# Sort the panel data by individual_id, year, and quarter\n",
        "filled_test = filled_test.sort_values(['individual_id', 'year', 'quarter'])\n",
        "\n",
        "# Fill missing values with backward fill within each individual_id\n",
        "filled_test_b = filled_test.copy()\n",
        "filled_test_b[columns_to_fill] = filled_test_b.groupby('individual_id')[columns_to_fill].bfill()"
      ]
    },
    {
      "cell_type": "code",
      "execution_count": null,
      "id": "48e4ebb1",
      "metadata": {
        "id": "48e4ebb1",
        "outputId": "191bac09-0f8e-4ed9-a28d-ddf17831b812"
      },
      "outputs": [
        {
          "data": {
            "text/plain": [
              "individual_id                             0\n",
              "quarter                                   0\n",
              "year                                      0\n",
              "Statement Months                          0\n",
              "CR NUM                                 1121\n",
              "Partner Region_CAF                        0\n",
              "Partner Region_CAT                        0\n",
              "Partner Region_CEA                        0\n",
              "Partner Region_CEU                        0\n",
              "Partner Region_CLA                        0\n",
              "Partner Region_CME                        0\n",
              "Partner Region_CSA                        0\n",
              "Partner Region_WLD                        0\n",
              "Partner Industry_INFRA                    0\n",
              "Partner Industry_MAS                      0\n",
              "NPL                                       0\n",
              "Total Cash and Cash Equivalents_n        32\n",
              "Total Liabilities_n                      29\n",
              "Retained Earnings_n                      54\n",
              "Total Equity_n                            0\n",
              "Net Revenues_n                           45\n",
              "Operating Profit_n                        9\n",
              "Interest Expense_n                       50\n",
              "Interest Income_n                       399\n",
              "Income Tax Expense_n                    226\n",
              "Net Income_n                             38\n",
              "Net Debt_n                               31\n",
              "Current Ratio_n                          39\n",
              "Net Worth to Total Assets_n              38\n",
              "DSCR (TS)_n                             138\n",
              "Interest Coverage_n                     158\n",
              "ROAA_n                                   47\n",
              "Asset Turnover_n                         54\n",
              "DEBT_CMTD_n                            1391\n",
              "LOAN_OUTSTANDING_n                     1391\n",
              "WC to Assets Ratio_n                      9\n",
              "RE to Assets Ratio_n                      9\n",
              "EBIT to Assets Ratio (annualized)_n       9\n",
              "Equity to Liabilities Ratio_n            41\n",
              "Rev_Total_Assest_n                        9\n",
              "NPL_DEBT_CMTD_n                        1197\n",
              "dtype: int64"
            ]
          },
          "execution_count": 139,
          "metadata": {},
          "output_type": "execute_result"
        }
      ],
      "source": [
        "filled_test_b.isnull().sum()"
      ]
    },
    {
      "cell_type": "code",
      "execution_count": null,
      "id": "7b7ddb1a",
      "metadata": {
        "id": "7b7ddb1a"
      },
      "outputs": [],
      "source": [
        "columns = ['DEBT_CMTD_n', 'LOAN_OUTSTANDING_n', 'NPL_DEBT_CMTD_n']\n",
        "filled_test_b.loc[:, columns] = filled_test_b.loc[:, columns].fillna(0)"
      ]
    },
    {
      "cell_type": "code",
      "execution_count": null,
      "id": "6263b2e0",
      "metadata": {
        "id": "6263b2e0",
        "outputId": "61520183-bf3d-4be2-b08a-cac69998796d"
      },
      "outputs": [
        {
          "data": {
            "text/plain": [
              "individual_id                             0\n",
              "quarter                                   0\n",
              "year                                      0\n",
              "Statement Months                          0\n",
              "CR NUM                                 1121\n",
              "Partner Region_CAF                        0\n",
              "Partner Region_CAT                        0\n",
              "Partner Region_CEA                        0\n",
              "Partner Region_CEU                        0\n",
              "Partner Region_CLA                        0\n",
              "Partner Region_CME                        0\n",
              "Partner Region_CSA                        0\n",
              "Partner Region_WLD                        0\n",
              "Partner Industry_INFRA                    0\n",
              "Partner Industry_MAS                      0\n",
              "NPL                                       0\n",
              "Total Cash and Cash Equivalents_n        32\n",
              "Total Liabilities_n                      29\n",
              "Retained Earnings_n                      54\n",
              "Total Equity_n                            0\n",
              "Net Revenues_n                           45\n",
              "Operating Profit_n                        9\n",
              "Interest Expense_n                       50\n",
              "Interest Income_n                       399\n",
              "Income Tax Expense_n                    226\n",
              "Net Income_n                             38\n",
              "Net Debt_n                               31\n",
              "Current Ratio_n                          39\n",
              "Net Worth to Total Assets_n              38\n",
              "DSCR (TS)_n                             138\n",
              "Interest Coverage_n                     158\n",
              "ROAA_n                                   47\n",
              "Asset Turnover_n                         54\n",
              "DEBT_CMTD_n                               0\n",
              "LOAN_OUTSTANDING_n                        0\n",
              "WC to Assets Ratio_n                      9\n",
              "RE to Assets Ratio_n                      9\n",
              "EBIT to Assets Ratio (annualized)_n       9\n",
              "Equity to Liabilities Ratio_n            41\n",
              "Rev_Total_Assest_n                        9\n",
              "NPL_DEBT_CMTD_n                           0\n",
              "dtype: int64"
            ]
          },
          "execution_count": 141,
          "metadata": {},
          "output_type": "execute_result"
        }
      ],
      "source": [
        "filled_test_b.isnull().sum()"
      ]
    },
    {
      "cell_type": "code",
      "execution_count": null,
      "id": "66a3d558",
      "metadata": {
        "id": "66a3d558"
      },
      "outputs": [],
      "source": [
        "from sklearn.impute import KNNImputer\n",
        "\n",
        "columns_to_impute = ['Current Ratio_n', 'DSCR (TS)_n', 'ROAA_n', 'Asset Turnover_n',\n",
        "                   'DEBT_CMTD_n', 'LOAN_OUTSTANDING_n', 'CR NUM', 'WC to Assets Ratio_n', 'RE to Assets Ratio_n',\n",
        "                   'EBIT to Assets Ratio (annualized)_n', 'Equity to Liabilities Ratio_n', 'Rev_Total_Assest_n',\n",
        "                   'NPL_DEBT_CMTD_n', 'Total Cash and Cash Equivalents_n', 'Total Liabilities_n',\n",
        "                   'Retained Earnings_n', 'Total Equity_n', 'Net Revenues_n', 'Operating Profit_n',\n",
        "                   'Interest Expense_n', 'Income Tax Expense_n', 'Interest Income_n', 'Net Worth to Total Assets_n',\n",
        "                   'Net Debt_n', 'Interest Coverage_n', 'Net Income_n']\n",
        "\n",
        "imputer = KNNImputer(n_neighbors=3)  # You can adjust the number of neighbors as needed\n",
        "\n",
        "# Create a copy of the original dataframe\n",
        "imputed_npl = filled_test_b.copy()\n",
        "\n",
        "# Perform imputation on the selected columns\n",
        "imputed_npl[columns_to_impute] = imputer.fit_transform(imputed_npl[columns_to_impute])\n",
        "\n",
        "# Round the 'CR NUM' column to a whole number\n",
        "imputed_npl['CR NUM'] = imputed_npl['CR NUM'].round()\n"
      ]
    },
    {
      "cell_type": "code",
      "execution_count": null,
      "id": "263e7471",
      "metadata": {
        "id": "263e7471",
        "outputId": "217cdadb-1eb5-4879-bf24-31884215a87d"
      },
      "outputs": [
        {
          "data": {
            "text/plain": [
              "individual_id                          0\n",
              "quarter                                0\n",
              "year                                   0\n",
              "Statement Months                       0\n",
              "CR NUM                                 0\n",
              "Partner Region_CAF                     0\n",
              "Partner Region_CAT                     0\n",
              "Partner Region_CEA                     0\n",
              "Partner Region_CEU                     0\n",
              "Partner Region_CLA                     0\n",
              "Partner Region_CME                     0\n",
              "Partner Region_CSA                     0\n",
              "Partner Region_WLD                     0\n",
              "Partner Industry_INFRA                 0\n",
              "Partner Industry_MAS                   0\n",
              "NPL                                    0\n",
              "Total Cash and Cash Equivalents_n      0\n",
              "Total Liabilities_n                    0\n",
              "Retained Earnings_n                    0\n",
              "Total Equity_n                         0\n",
              "Net Revenues_n                         0\n",
              "Operating Profit_n                     0\n",
              "Interest Expense_n                     0\n",
              "Interest Income_n                      0\n",
              "Income Tax Expense_n                   0\n",
              "Net Income_n                           0\n",
              "Net Debt_n                             0\n",
              "Current Ratio_n                        0\n",
              "Net Worth to Total Assets_n            0\n",
              "DSCR (TS)_n                            0\n",
              "Interest Coverage_n                    0\n",
              "ROAA_n                                 0\n",
              "Asset Turnover_n                       0\n",
              "DEBT_CMTD_n                            0\n",
              "LOAN_OUTSTANDING_n                     0\n",
              "WC to Assets Ratio_n                   0\n",
              "RE to Assets Ratio_n                   0\n",
              "EBIT to Assets Ratio (annualized)_n    0\n",
              "Equity to Liabilities Ratio_n          0\n",
              "Rev_Total_Assest_n                     0\n",
              "NPL_DEBT_CMTD_n                        0\n",
              "dtype: int64"
            ]
          },
          "execution_count": 143,
          "metadata": {},
          "output_type": "execute_result"
        }
      ],
      "source": [
        "imputed_npl.isnull().sum()"
      ]
    },
    {
      "cell_type": "code",
      "execution_count": null,
      "id": "e9bb435b",
      "metadata": {
        "id": "e9bb435b"
      },
      "outputs": [],
      "source": [
        "# Save the DataFrame to a CSV file\n",
        "imputed_npl.to_csv('imputed_npl.csv', index=False)"
      ]
    },
    {
      "cell_type": "markdown",
      "id": "93151817",
      "metadata": {
        "id": "93151817"
      },
      "source": [
        "Predicting future ratios"
      ]
    },
    {
      "cell_type": "code",
      "execution_count": null,
      "id": "25bcfb9b",
      "metadata": {
        "id": "25bcfb9b"
      },
      "outputs": [],
      "source": [
        "imputed_npl = imputed_npl.drop(columns=['Statement Months'])"
      ]
    },
    {
      "cell_type": "code",
      "execution_count": null,
      "id": "8d5e1eb8",
      "metadata": {
        "id": "8d5e1eb8",
        "outputId": "b75267d4-5afc-4958-8b34-a18ee04a3269"
      },
      "outputs": [
        {
          "name": "stdout",
          "output_type": "stream",
          "text": [
            "['individual_id', 'quarter', 'year', 'CR NUM', 'Partner Region_CAF', 'Partner Region_CAT', 'Partner Region_CEA', 'Partner Region_CEU', 'Partner Region_CLA', 'Partner Region_CME', 'Partner Region_CSA', 'Partner Region_WLD', 'Partner Industry_INFRA', 'Partner Industry_MAS', 'NPL', 'Total Cash and Cash Equivalents_n', 'Total Liabilities_n', 'Retained Earnings_n', 'Total Equity_n', 'Net Revenues_n', 'Operating Profit_n', 'Interest Expense_n', 'Interest Income_n', 'Income Tax Expense_n', 'Net Income_n', 'Net Debt_n', 'Current Ratio_n', 'Net Worth to Total Assets_n', 'DSCR (TS)_n', 'Interest Coverage_n', 'ROAA_n', 'Asset Turnover_n', 'DEBT_CMTD_n', 'LOAN_OUTSTANDING_n', 'WC to Assets Ratio_n', 'RE to Assets Ratio_n', 'EBIT to Assets Ratio (annualized)_n', 'Equity to Liabilities Ratio_n', 'Rev_Total_Assest_n', 'NPL_DEBT_CMTD_n']\n"
          ]
        }
      ],
      "source": [
        "print(imputed_npl.columns.tolist())"
      ]
    },
    {
      "cell_type": "code",
      "execution_count": null,
      "id": "58263b54",
      "metadata": {
        "id": "58263b54"
      },
      "outputs": [],
      "source": [
        "from sklearn.linear_model import LinearRegression\n",
        "\n",
        "# Separate the historical data and future years for each panel\n",
        "future_years = [2023, 2024]\n",
        "predicted_data = []\n",
        "\n",
        "# Iterate over unique panel values\n",
        "for panel in imputed_npl['individual_id'].unique():\n",
        "    test_data = imputed_npl[imputed_npl['individual_id'] == panel].copy()\n",
        "    historical_years = test_data['year']\n",
        "    historical_quarters = test_data['quarter']\n",
        "\n",
        "    # Check if there are enough historical years available for the panel\n",
        "    if len(historical_years) < 2:\n",
        "        continue\n",
        "\n",
        "    historical_X = test_data[['Current Ratio_n', 'DSCR (TS)_n', 'ROAA_n', 'Asset Turnover_n',\n",
        "                              'DEBT_CMTD_n', 'LOAN_OUTSTANDING_n', 'CR NUM', 'WC to Assets Ratio_n', 'RE to Assets Ratio_n',\n",
        "                              'EBIT to Assets Ratio (annualized)_n', 'Equity to Liabilities Ratio_n', 'Rev_Total_Assest_n',\n",
        "                              'NPL_DEBT_CMTD_n', 'NPL Days', 'Total Cash and Cash Equivalents_n', 'Total Liabilities_n',\n",
        "                              'Retained Earnings_n', 'Total Equity_n', 'Net Revenues_n', 'Operating Profit_n',\n",
        "                              'Interest Expense_n', 'Net Debt_n']]\n",
        "'CR NUM', 'Partner Region_CAF', 'Partner Region_CAT', 'Partner Region_CEA', 'Partner Region_CEU',\n",
        "'Partner Region_CLA', 'Partner Region_CME', 'Partner Region_CSA', 'Partner Region_WLD', 'Partner Industry_INFRA',\n",
        "'Partner Industry_MAS', 'NPL', 'Total Cash and Cash Equivalents_n', 'Total Liabilities_n', 'Retained Earnings_n',\n",
        "'Total Equity_n', 'Net Revenues_n', 'Operating Profit_n', 'Interest Expense_n', 'Interest Income_n',\n",
        "'Income Tax Expense_n', 'Net Income_n', 'Net Debt_n', 'Current Ratio_n', 'Net Worth to Total Assets_n',\n",
        "'DSCR (TS)_n', 'Interest Coverage_n', 'ROAA_n', 'Asset Turnover_n', 'DEBT_CMTD_n', 'LOAN_OUTSTANDING_n',\n",
        "'WC to Assets Ratio_n', 'RE to Assets Ratio_n', 'EBIT to Assets Ratio (annualized)_n', 'Equity to Liabilities Ratio_n',\n",
        "'Rev_Total_Assest_n', 'NPL_DEBT_CMTD_n'\n",
        "\n",
        "    # Fit a linear regression model for each variable\n",
        "    models = {}\n",
        "    for column in ['Current Ratio_n', 'DSCR (TS)_n', 'ROAA_n', 'Asset Turnover_n',\n",
        "                   'DEBT_CMTD_n', 'LOAN_OUTSTANDING_n', 'CR NUM', 'WC to Assets Ratio_n', 'RE to Assets Ratio_n',\n",
        "                   'EBIT to Assets Ratio (annualized)_n', 'Equity to Liabilities Ratio_n', 'Rev_Total_Assest_n',\n",
        "                   'NPL_DEBT_CMTD_n', 'NPL Days', 'Total Cash and Cash Equivalents_n', 'Total Liabilities_n',\n",
        "                   'Retained Earnings_n', 'Total Equity_n', 'Net Revenues_n', 'Operating Profit_n',\n",
        "                   'Interest Expense_n', 'Net Debt_n']:\n",
        "        model = LinearRegression()\n",
        "        model.fit(np.column_stack((historical_years, historical_quarters)), historical_X[column])\n",
        "        models[column] = model\n",
        "\n",
        "    # Predict the future values for the panel\n",
        "    future_X = pd.DataFrame()\n",
        "    for column, model in models.items():\n",
        "        future_X[column] = model.predict(np.column_stack((np.repeat(future_years, 4), np.tile(np.arange(1, 5), 2))))\n",
        "\n",
        "    # Add the panel and year columns to the predicted future values\n",
        "    future_X['individual_id'] = panel\n",
        "    future_X['year'] = np.repeat(future_years, 4)\n",
        "    future_X['quarter'] = np.tile(np.arange(1, 5), 2)\n",
        "    predicted_data.append(future_X)\n",
        "\n",
        "# Concatenate the predicted future values for all panels\n",
        "predicted_df = pd.concat(predicted_data, ignore_index=True)\n",
        "# Add the predicted future values to the panel dataframe\n",
        "panel_final = pd.concat([imputed_npl, predicted_df], ignore_index=True)"
      ]
    },
    {
      "cell_type": "code",
      "execution_count": null,
      "id": "a5eda337",
      "metadata": {
        "id": "a5eda337"
      },
      "outputs": [],
      "source": []
    },
    {
      "cell_type": "code",
      "execution_count": null,
      "id": "f41eef0f",
      "metadata": {
        "id": "f41eef0f"
      },
      "outputs": [],
      "source": [
        "from sklearn.metrics import mean_squared_error\n",
        "\n",
        "columns_to_impute = ['Current Ratio_n', 'DSCR (TS)_n', 'ROAA_n', 'Asset Turnover_n', 'DEBT_CMTD_n', 'LOAN_OUTSTANDING_n', 'CR NUM', 'WC to Assets Ratio_n', 'RE to Assets Ratio_n',\n",
        "                     'EBIT to Assets Ratio (annualized)_n', 'Equity to Liabilities Ratio_n', 'Rev_Total_Assest_n', 'NPL_DEBT_CMTD_n', 'NPL Days',\n",
        "                     'Total Cash and Cash Equivalents_n', 'Total Liabilities_n', 'Retained Earnings_n', 'Total Equity_n', 'Net Revenues_n',\n",
        "                     'Operating Profit_n', 'Interest Expense_n', 'Net Debt_n']\n",
        "\n",
        "# Merge the predicted values and actual values based on 'individual_id', 'year', and 'quarter'\n",
        "merged_df = pd.merge(panel_final, imputed_npl, on=['individual_id', 'year', 'quarter'], suffixes=('_predicted', '_actual'))\n",
        "\n",
        "# Calculate RMSE for each column\n",
        "rmse_scores = {}\n",
        "\n",
        "for column in columns_to_impute:\n",
        "    mse = mean_squared_error(merged_df[column + '_actual'], merged_df[column + '_predicted'])\n",
        "    rmse = np.sqrt(mse)\n",
        "    rmse_scores[column] = rmse\n",
        "\n",
        "# Print the RMSE scores\n",
        "for column in columns_to_impute:\n",
        "    print(f\"RMSE for {column}: {rmse_scores[column]}\")\n"
      ]
    },
    {
      "cell_type": "code",
      "execution_count": null,
      "id": "fbd33295",
      "metadata": {
        "id": "fbd33295"
      },
      "outputs": [],
      "source": [
        "print(panel_final.shape)"
      ]
    },
    {
      "cell_type": "code",
      "execution_count": null,
      "id": "f92cfacf",
      "metadata": {
        "id": "f92cfacf"
      },
      "outputs": [],
      "source": [
        "print(panel_final.tail(10))"
      ]
    },
    {
      "cell_type": "code",
      "execution_count": null,
      "id": "f8eab638",
      "metadata": {
        "id": "f8eab638"
      },
      "outputs": [],
      "source": [
        "test_used = panel_final[panel_final['year'] > 2022]"
      ]
    },
    {
      "cell_type": "code",
      "execution_count": null,
      "id": "1a2d5044",
      "metadata": {
        "id": "1a2d5044"
      },
      "outputs": [],
      "source": [
        "print(test_used.shape)"
      ]
    },
    {
      "cell_type": "code",
      "execution_count": null,
      "id": "c85cdc21",
      "metadata": {
        "id": "c85cdc21"
      },
      "outputs": [],
      "source": [
        "print(test_used.head(10))"
      ]
    },
    {
      "cell_type": "code",
      "execution_count": null,
      "id": "b8218f7f",
      "metadata": {
        "id": "b8218f7f"
      },
      "outputs": [],
      "source": [
        "# Save the DataFrame to a CSV file\n",
        "test_used.to_csv('test_used.csv', index=False)"
      ]
    },
    {
      "cell_type": "markdown",
      "id": "a04efab4",
      "metadata": {
        "id": "a04efab4"
      },
      "source": [
        "Predicting future npl"
      ]
    },
    {
      "cell_type": "code",
      "execution_count": null,
      "id": "e22c5378",
      "metadata": {
        "id": "e22c5378"
      },
      "outputs": [],
      "source": [
        "test_fu = test_used.drop(columns=[\"NPL\"])"
      ]
    },
    {
      "cell_type": "code",
      "execution_count": null,
      "id": "653042a7",
      "metadata": {
        "id": "653042a7"
      },
      "outputs": [],
      "source": [
        "print(test_fu.shape)"
      ]
    },
    {
      "cell_type": "code",
      "execution_count": null,
      "id": "2422c8b9",
      "metadata": {
        "id": "2422c8b9"
      },
      "outputs": [],
      "source": [
        "import joblib\n",
        "\n",
        "# Load the saved models\n",
        "hgb_model_cts = joblib.load('hgb_model_cts.joblib')\n",
        "xgb_model_cts = joblib.load('xgb_model_cts.joblib')\n",
        "lgbm_model_cts = joblib.load('lgbm_model_cts.joblib')\n",
        "cat_model_cts = joblib.load('cat_model_cts.joblib')\n",
        "ensemble_model_cts = joblib.load('ensemble_model_cts.joblib')\n",
        "\n",
        "# Make predictions on the test_grp dataframe\n",
        "hgb_pred_cts = hgb_model_cts.predict(test_fu)\n",
        "xgb_pred_cts = xgb_model_cts.predict(test_fu)\n",
        "lgbm_pred_cts = lgbm_model_cts.predict(test_fu)\n",
        "cat_pred_cts = cat_model_cts.predict(test_fu)\n",
        "ensemble_pred_cts = ensemble_model_cts.predict(test_fu)\n",
        "\n",
        "# Create a results dataframe\n",
        "results_fu = test_fu.copy()\n",
        "results_fu['hgb_pred'] = hgb_pred_cts\n",
        "results_fu['xgb_pred'] = xgb_pred_cts\n",
        "results_fu['lgbm_pred'] = lgbm_pred_cts\n",
        "results_fu['cat_pred'] = cat_pred_cts\n",
        "results_fu['ensemble_pred'] = ensemble_pred_cts\n"
      ]
    },
    {
      "cell_type": "code",
      "execution_count": null,
      "id": "02f86232",
      "metadata": {
        "id": "02f86232"
      },
      "outputs": [],
      "source": [
        "results_fu.shape"
      ]
    },
    {
      "cell_type": "code",
      "execution_count": null,
      "id": "33d342c7",
      "metadata": {
        "id": "33d342c7"
      },
      "outputs": [],
      "source": [
        "# Assuming the column names are \"NPL\", \"TCG\", and \"GIT\" in the \"result_fu\" dataframe\n",
        "hgb_pred = len(results_fu[results_fu['hgb_pred'] == 1])\n",
        "xgb_pred = len(results_fu[results_fu['xgb_pred'] == 1])\n",
        "lgbm_pred = len(results_fu[results_fu['lgbm_pred'] == 1])\n",
        "cat_pred = len(results_fu[results_fu['cat_pred'] == 1])\n",
        "ensemble_pred = len(results_fu[results_fu['ensemble_pred'] == 1])\n",
        "\n",
        "\n",
        "print(\"Total number of rows with hgb:\", hgb_pred)\n",
        "print(\"Total number of rows with xgb:\", xgb_pred)\n",
        "print(\"Total number of rows with lgbm:\", lgbm_pred)\n",
        "print(\"Total number of rows with cat:\", cat_pred)\n",
        "print(\"Total number of rows with ensemble:\", ensemble_pred)\n"
      ]
    },
    {
      "cell_type": "code",
      "execution_count": null,
      "id": "9efee9f5",
      "metadata": {
        "id": "9efee9f5"
      },
      "outputs": [],
      "source": [
        "# Assuming the column names are 'hgb_pred', 'xgb_pred', 'lgbm_pred', 'cat_pred', and 'ensemble_pred' in the 'results_fu' dataframe\n",
        "results_fu_retained = results_fu[\n",
        "    (results_fu['hgb_pred'] == 1) |\n",
        "    (results_fu['xgb_pred'] == 1) |\n",
        "    (results_fu['lgbm_pred'] == 1) |\n",
        "    (results_fu['cat_pred'] == 1) |\n",
        "    (results_fu['ensemble_pred'] == 1)\n",
        "].copy()\n"
      ]
    },
    {
      "cell_type": "code",
      "execution_count": null,
      "id": "05758f18",
      "metadata": {
        "id": "05758f18"
      },
      "outputs": [],
      "source": [
        "results_fu_retained = results_fu[\n",
        "    (results_fu[['hgb_pred', 'xgb_pred', 'lgbm_pred', 'cat_pred', 'ensemble_pred']] == 1).any(axis=1)\n",
        "].copy()\n"
      ]
    },
    {
      "cell_type": "code",
      "execution_count": null,
      "id": "5ece78da",
      "metadata": {
        "id": "5ece78da"
      },
      "outputs": [],
      "source": [
        "results_fu_retained.shape"
      ]
    },
    {
      "cell_type": "code",
      "execution_count": null,
      "id": "bb3a4b31",
      "metadata": {
        "id": "bb3a4b31"
      },
      "outputs": [],
      "source": [
        "print(results_fu_retained)"
      ]
    },
    {
      "cell_type": "code",
      "execution_count": null,
      "id": "b233a40d",
      "metadata": {
        "id": "b233a40d"
      },
      "outputs": [],
      "source": [
        "# Assuming the column name is \"individual_id\" in the \"test\" dataframe\n",
        "unique_values = results_fu_retained[\"individual_id\"].nunique()\n",
        "print(\"Total unique values in 'individual_id' column:\", unique_values)"
      ]
    },
    {
      "cell_type": "code",
      "execution_count": null,
      "id": "b733db0e",
      "metadata": {
        "id": "b733db0e"
      },
      "outputs": [],
      "source": [
        "# Assuming the column name is \"individual_id\" in the \"results_fu_retained\" dataframe\n",
        "unique_values_2023 = results_fu_retained[results_fu_retained[\"year\"] == 2023][\"individual_id\"].nunique()\n",
        "unique_values_2024 = results_fu_retained[results_fu_retained[\"year\"] == 2024][\"individual_id\"].nunique()\n",
        "\n",
        "print(\"Total unique values in 'individual_id' column for 2023:\", unique_values_2023)\n",
        "print(\"Total unique values in 'individual_id' column for 2024:\", unique_values_2024)\n"
      ]
    },
    {
      "cell_type": "code",
      "execution_count": null,
      "id": "8d0319de",
      "metadata": {
        "id": "8d0319de"
      },
      "outputs": [],
      "source": [
        "# Assuming the column name is \"individual_id\" in the \"results_fu_retained\" dataframe\n",
        "unique_ids = results_fu_retained[\"individual_id\"].unique()\n",
        "unique_ids_list = ', '.join(str(id) for id in unique_ids)\n",
        "print(\"Unique values in 'individual_id' column:\", unique_ids_list)\n"
      ]
    },
    {
      "cell_type": "code",
      "execution_count": null,
      "id": "319437de",
      "metadata": {
        "id": "319437de"
      },
      "outputs": [],
      "source": [
        "results_fu_all = results_fu_retained[\n",
        "    (results_fu['hgb_pred'] == 1) &\n",
        "    (results_fu['xgb_pred'] == 1) &\n",
        "    (results_fu['lgbm_pred'] == 1) &\n",
        "    (results_fu['cat_pred'] == 1) &\n",
        "    (results_fu['ensemble_pred'] == 1)\n",
        "].copy()\n"
      ]
    },
    {
      "cell_type": "code",
      "execution_count": null,
      "id": "48c2c665",
      "metadata": {
        "id": "48c2c665"
      },
      "outputs": [],
      "source": [
        "results_fu_all.shape"
      ]
    },
    {
      "cell_type": "code",
      "execution_count": null,
      "id": "540cc9dd",
      "metadata": {
        "id": "540cc9dd"
      },
      "outputs": [],
      "source": [
        "unique_values_all = results_fu_all[\"individual_id\"].nunique()\n",
        "print(\"Total unique values in 'individual_id' column:\", unique_values_all)"
      ]
    },
    {
      "cell_type": "code",
      "execution_count": null,
      "id": "cc87bcc4",
      "metadata": {
        "id": "cc87bcc4"
      },
      "outputs": [],
      "source": [
        "# Assuming the column name is \"individual_id\" in the \"results_fu_retained\" dataframe\n",
        "unique_ids_all = results_fu_all[\"individual_id\"].unique()\n",
        "unique_ids_list = ', '.join(str(id) for id in unique_ids)\n",
        "\n",
        "print(\"Unique values in 'individual_id' column:\", unique_ids_list)"
      ]
    },
    {
      "cell_type": "code",
      "execution_count": null,
      "id": "0f0ffa47",
      "metadata": {
        "id": "0f0ffa47"
      },
      "outputs": [],
      "source": [
        "# Assuming the column name is \"individual_id\" in the \"results_fu_retained\" dataframe\n",
        "unique_ids = results_fu_all[\"individual_id\"].unique()\n",
        "unique_ids_list = ', '.join(str(id) for id in unique_ids)\n",
        "\n",
        "# Create a dataframe with the unique values\n",
        "unique_ids_df = pd.DataFrame({'Unique IDs': unique_ids})\n",
        "\n",
        "print(\"Unique values in 'individual_id' column:\")\n",
        "print(unique_ids_df)"
      ]
    },
    {
      "cell_type": "code",
      "execution_count": null,
      "id": "422829e2",
      "metadata": {
        "id": "422829e2"
      },
      "outputs": [],
      "source": [
        "# Save the DataFrame to a CSV file\n",
        "unique_ids_df.to_csv('unique_ids_df.csv', index=False)"
      ]
    },
    {
      "cell_type": "code",
      "execution_count": null,
      "id": "afc9b95f",
      "metadata": {
        "id": "afc9b95f"
      },
      "outputs": [],
      "source": [
        "list1 = [52907, 53108, 54374, 543266, 565353, 567734, 572719, 574958, 593024, 614220, 616679, 618824, 621664, 623327, 633389, 635239, 647468, 651804, 660324, 666344, 674604, 678664, 680425, 689064, 695144, 697924, 720469, 724508, 735127, 737219, 740499, 741046, 741244, 742584, 742949, 743752, 743848, 747744, 747848, 751151, 755417, 759532, 763244, 766526, 766971, 768222, 768574, 774725, 775431, 776646, 781218, 785686, 791365, 792909, 799731, 802942, 803695, 803696, 803844, 811854, 814241, 1004739, 1009051, 1022378]\n",
        "list2 = [50315, 51900, 52907, 52971, 53108, 54374, 543266, 565353, 567734, 572015, 572719, 574958, 593024, 614220, 616679, 618824, 619846, 620657, 621664, 623068, 623327, 630947, 633389, 635239, 644885, 647468, 651804, 660324, 666344, 674604, 678664, 680425, 684570, 689064, 691229, 695144, 697924, 698944, 699647, 716387, 720469, 724508, 730864, 732665, 735127, 737219, 740499, 741046, 741244, 742584, 742949, 743752, 743848, 746145, 747744, 747848, 751151, 755417, 757225, 759532, 763244, 766526, 766971, 768222, 768574, 769563, 770956, 774725, 775431, 776646, 781218, 785686, 791365, 792909, 799731, 802942, 803694, 803695, 803696, 803844, 808278, 811854, 814241, 1004739, 1009051, 1009855, 1015045, 1021900, 1021985, 1022378, 1036086]\n",
        "\n",
        "list1_unique = set(list1) - set(list2)\n",
        "list2_unique = set(list2) - set(list1)"
      ]
    },
    {
      "cell_type": "code",
      "execution_count": null,
      "id": "3ec979a0",
      "metadata": {
        "id": "3ec979a0"
      },
      "outputs": [],
      "source": [
        "print(list1_unique)"
      ]
    },
    {
      "cell_type": "code",
      "execution_count": null,
      "id": "68bd516e",
      "metadata": {
        "id": "68bd516e"
      },
      "outputs": [],
      "source": [
        "print(list2_unique)"
      ]
    },
    {
      "cell_type": "code",
      "execution_count": null,
      "id": "07c59196",
      "metadata": {
        "id": "07c59196"
      },
      "outputs": [],
      "source": [
        "partner_ids = [52907, 53108, 54374, 543266, 565353, 567734, 572719, 574958, 593024, 614220, 616679, 618824, 621664, 623327, 633389, 635239, 647468, 651804, 660324, 666344, 674604, 678664, 680425, 689064, 695144, 697924, 720469, 724508, 735127, 737219, 740499, 741046, 741244, 742584, 742949, 743752, 743848, 747744, 747848, 751151, 755417, 759532, 763244, 766526, 766971, 768222, 768574, 774725, 775431, 776646, 781218, 785686, 791365, 792909, 799731, 802942, 803695, 803696, 803844, 811854, 814241, 1004739, 1009051, 1022378]\n",
        "\n",
        "partner_names = npl_data[npl_data['Partner ID'].isin(partner_ids)]['Partner Name'].unique()\n",
        "\n",
        "npl_clients = pd.DataFrame({'Partner ID': partner_ids, 'Partner Name': partner_names})\n"
      ]
    },
    {
      "cell_type": "code",
      "execution_count": null,
      "id": "44a5fd38",
      "metadata": {
        "id": "44a5fd38"
      },
      "outputs": [],
      "source": [
        "print(npl_clients)"
      ]
    },
    {
      "cell_type": "code",
      "execution_count": null,
      "id": "66b41f8e",
      "metadata": {
        "id": "66b41f8e"
      },
      "outputs": [],
      "source": [
        "# Save the DataFrame to a CSV file\n",
        "npl_clients.to_csv('npl_clients.csv', index=False)"
      ]
    },
    {
      "cell_type": "code",
      "execution_count": null,
      "id": "6d006adb",
      "metadata": {
        "id": "6d006adb"
      },
      "outputs": [],
      "source": [
        "partner_names.shape"
      ]
    },
    {
      "cell_type": "code",
      "execution_count": null,
      "id": "b959a437",
      "metadata": {
        "id": "b959a437"
      },
      "outputs": [],
      "source": [
        "print(partner_names)"
      ]
    },
    {
      "cell_type": "code",
      "execution_count": null,
      "id": "06465bad",
      "metadata": {
        "id": "06465bad"
      },
      "outputs": [],
      "source": [
        "partner_ids2 = [1015045, 50315, 770956, 644885, 684570, 769563, 691229, 1021985, 746145, 630947, 1036086, 51900, 1009855, 698944, 619846, 1021900, 808278, 623068, 716387, 757225, 52971, 803694, 572015, 730864, 620657, 732665, 699647]\n",
        "\n",
        "partner_names2 = npl_data[npl_data['Partner ID'].isin(partner_ids2)]['Partner Name'].unique()\n",
        "\n",
        "npl_clients2 = pd.DataFrame({'Partner ID': partner_ids2, 'Partner Name': partner_names2})\n"
      ]
    },
    {
      "cell_type": "code",
      "execution_count": null,
      "id": "4d43b565",
      "metadata": {
        "id": "4d43b565"
      },
      "outputs": [],
      "source": [
        "print(npl_clients2)"
      ]
    },
    {
      "cell_type": "code",
      "execution_count": null,
      "id": "e9f7652a",
      "metadata": {
        "id": "e9f7652a"
      },
      "outputs": [],
      "source": [
        "# Save the DataFrame to a CSV file\n",
        "npl_clients2.to_csv('npl_clients2.csv', index=False)"
      ]
    },
    {
      "cell_type": "code",
      "execution_count": null,
      "id": "dd9bc671",
      "metadata": {
        "id": "dd9bc671"
      },
      "outputs": [],
      "source": []
    },
    {
      "cell_type": "markdown",
      "id": "ef633e12",
      "metadata": {
        "id": "ef633e12"
      },
      "source": [
        "Identifying drivers of model output"
      ]
    },
    {
      "cell_type": "code",
      "execution_count": null,
      "id": "588ddee3",
      "metadata": {
        "id": "588ddee3"
      },
      "outputs": [],
      "source": [
        "import shap\n",
        "\n",
        "# Create a SHAP explainer object\n",
        "explainer = shap.Explainer(hgb_model_fs)\n",
        "\n",
        "# Compute SHAP values for the test data\n",
        "shap_values = explainer.shap_values(X_test_fs)\n",
        "\n",
        "# Visualize the SHAP summary plot\n",
        "shap.summary_plot(shap_values, X_test_fs)\n"
      ]
    },
    {
      "cell_type": "code",
      "execution_count": null,
      "id": "41112ef6",
      "metadata": {
        "id": "41112ef6"
      },
      "outputs": [],
      "source": [
        "import lime\n",
        "import lime.lime_tabular\n",
        "\n",
        "# Create a LIME explainer object\n",
        "explainer = lime.lime_tabular.LimeTabularExplainer(X_train_fs.values, feature_names=X_train_fs.columns)\n",
        "\n",
        "# Generate explanations for the test data\n",
        "explanations = explainer.explain_instance(X_test_fs.values, xgb_model_fs.predict_proba, num_features=len(X_train_fs.columns))\n",
        "\n",
        "# Visualize the LIME explanation\n",
        "explanations.show_in_notebook()\n"
      ]
    },
    {
      "cell_type": "code",
      "execution_count": null,
      "id": "e1c78c93",
      "metadata": {
        "id": "e1c78c93"
      },
      "outputs": [],
      "source": [
        "import shap\n",
        "import lime\n",
        "import lime.lime_tabular\n",
        "import joblib\n",
        "\n",
        "# Load the trained models\n",
        "hgb_model_crd = joblib.load('hgb_model_crd.joblib')\n",
        "xgb_model_crd = joblib.load('xgb_model_crd.joblib')\n",
        "lgbm_model_crd = joblib.load('lgbm_model_crd.joblib')\n",
        "cat_model_crd = joblib.load('cat_model_crd.joblib')\n",
        "ensemble_model_crd = joblib.load('ensemble_model_crd.joblib')\n",
        "\n",
        "# Initialize SHAP explainer\n",
        "explainer = shap.Explainer(ensemble_model_crd)\n",
        "\n",
        "# Create a SHAP summary plot for the ensemble model\n",
        "shap_values = explainer(X_train_crd)\n",
        "shap.summary_plot(shap_values, X_train_crd, plot_type='bar')\n",
        "\n",
        "# Initialize LIME explainer\n",
        "explainer_lime = lime.lime_tabular.LimeTabularExplainer(X_train_crd, mode='classification')\n",
        "\n",
        "# Select a random instance from the test set for LIME explanation\n",
        "instance_idx = 0  # Change the index according to your requirement\n",
        "instance = X_test_crd.iloc[[instance_idx]]\n",
        "explanation_lime = explainer_lime.explain_instance(instance.values[0], ensemble_model_crd.predict_proba)\n",
        "\n",
        "# Print LIME explanation for the selected instance\n",
        "explanation_lime.show_in_notebook(show_table=True)\n"
      ]
    },
    {
      "cell_type": "code",
      "execution_count": null,
      "id": "eb08beae",
      "metadata": {
        "id": "eb08beae"
      },
      "outputs": [],
      "source": []
    },
    {
      "cell_type": "code",
      "execution_count": null,
      "id": "83b7cdb0",
      "metadata": {
        "id": "83b7cdb0"
      },
      "outputs": [],
      "source": []
    },
    {
      "cell_type": "code",
      "execution_count": null,
      "id": "8e437c3f",
      "metadata": {
        "id": "8e437c3f"
      },
      "outputs": [],
      "source": []
    },
    {
      "cell_type": "code",
      "execution_count": null,
      "id": "0614ff22",
      "metadata": {
        "id": "0614ff22"
      },
      "outputs": [],
      "source": []
    },
    {
      "cell_type": "code",
      "execution_count": null,
      "id": "275ff7b1",
      "metadata": {
        "id": "275ff7b1"
      },
      "outputs": [],
      "source": []
    },
    {
      "cell_type": "code",
      "execution_count": null,
      "id": "0a74619f",
      "metadata": {
        "id": "0a74619f"
      },
      "outputs": [],
      "source": []
    },
    {
      "cell_type": "code",
      "execution_count": null,
      "id": "9f630824",
      "metadata": {
        "id": "9f630824"
      },
      "outputs": [],
      "source": []
    },
    {
      "cell_type": "code",
      "execution_count": null,
      "id": "70b1ce5a",
      "metadata": {
        "id": "70b1ce5a"
      },
      "outputs": [],
      "source": []
    }
  ],
  "metadata": {
    "kernelspec": {
      "display_name": "Python 3 (ipykernel)",
      "language": "python",
      "name": "python3"
    },
    "language_info": {
      "codemirror_mode": {
        "name": "ipython",
        "version": 3
      },
      "file_extension": ".py",
      "mimetype": "text/x-python",
      "name": "python",
      "nbconvert_exporter": "python",
      "pygments_lexer": "ipython3",
      "version": "3.9.13"
    },
    "colab": {
      "provenance": [],
      "include_colab_link": true
    }
  },
  "nbformat": 4,
  "nbformat_minor": 5
}